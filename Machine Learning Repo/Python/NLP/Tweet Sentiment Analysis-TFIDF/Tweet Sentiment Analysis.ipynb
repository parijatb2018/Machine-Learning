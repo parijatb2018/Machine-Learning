{
 "cells": [
  {
   "cell_type": "markdown",
   "metadata": {},
   "source": [
    "# Tweet Sentiment Analysis: TF-IDF"
   ]
  },
  {
   "cell_type": "code",
   "execution_count": null,
   "metadata": {},
   "outputs": [],
   "source": [
    "#!pip install tweepy"
   ]
  },
  {
   "cell_type": "code",
   "execution_count": 2,
   "metadata": {},
   "outputs": [],
   "source": [
    "import tweepy\n",
    "import re \n",
    "import pickle"
   ]
  },
  {
   "cell_type": "code",
   "execution_count": 3,
   "metadata": {},
   "outputs": [],
   "source": [
    "from tweepy import OAuthHandler"
   ]
  },
  {
   "cell_type": "code",
   "execution_count": 4,
   "metadata": {},
   "outputs": [],
   "source": [
    "# initializing the keys"
   ]
  },
  {
   "cell_type": "code",
   "execution_count": 5,
   "metadata": {},
   "outputs": [],
   "source": [
    "API_key='yCOL-RzX9'\n",
    "API_secrect_key='rw-hL'\n",
    "access_token='114791180--JhcX'\n",
    "access_secrect='O2j5lLz--Tx'\n"
   ]
  },
  {
   "cell_type": "code",
   "execution_count": 6,
   "metadata": {},
   "outputs": [],
   "source": [
    "auth=OAuthHandler(API_key,API_secrect_key)\n",
    "auth.set_access_token(access_token,access_secrect)"
   ]
  },
  {
   "cell_type": "code",
   "execution_count": 7,
   "metadata": {},
   "outputs": [],
   "source": [
    "api=tweepy.API(auth,timeout=10)"
   ]
  },
  {
   "cell_type": "code",
   "execution_count": 8,
   "metadata": {},
   "outputs": [],
   "source": [
    "query='facebook'\n",
    "tweets=tweepy.Cursor(api.search,q=query+'-filter:retweets',lang='en',result_type='recent').items(100)"
   ]
  },
  {
   "cell_type": "code",
   "execution_count": 9,
   "metadata": {},
   "outputs": [],
   "source": [
    "list_tweets=[]\n",
    "\n",
    "for tweet in tweets:\n",
    "    list_tweets.append(tweet.text)\n"
   ]
  },
  {
   "cell_type": "code",
   "execution_count": 10,
   "metadata": {},
   "outputs": [],
   "source": [
    "with open('vect.pkl','rb') as f:\n",
    "    vect=pickle.load(f)"
   ]
  },
  {
   "cell_type": "code",
   "execution_count": 11,
   "metadata": {},
   "outputs": [],
   "source": [
    "with open('classifier.pkl','rb') as f:\n",
    "    cls=pickle.load(f)"
   ]
  },
  {
   "cell_type": "code",
   "execution_count": 12,
   "metadata": {},
   "outputs": [
    {
     "data": {
      "text/plain": [
       "2"
      ]
     },
     "execution_count": 12,
     "metadata": {},
     "output_type": "execute_result"
    }
   ],
   "source": [
    "cls.predict(vect.transform(['You are a good man']))[0]"
   ]
  },
  {
   "cell_type": "code",
   "execution_count": 13,
   "metadata": {},
   "outputs": [
    {
     "name": "stdout",
     "output_type": "stream",
     "text": [
      "thanks for following me on twitter check out f my facebook page to see what i m up to \n",
      "2\n",
      "------------\n",
      "the radio station ha t uploaded my show yet afaik but i m determined to air my show on time by any means possible \n",
      "2\n",
      "------------\n",
      "thanks for following me on twitter check out f my facebook page to see what i m up to \n",
      "2\n",
      "------------\n",
      " hate facebook much it makes me want to \n",
      "2\n",
      "------------\n",
      "but it s not mediablackout silence censorship twitter facebook corruption \n",
      "2\n",
      "------------\n",
      "in ca you missed it solid \n",
      "2\n",
      "------------\n",
      " dme details shared with us through twitter facebook further axis bank does not a for personal securi \n",
      "2\n",
      "------------\n",
      " dme hi plea do not share your account details or any personal information on any public platform like f \n",
      "2\n",
      "------------\n",
      " heikomeins dailytelegraph that content will be removed from facebook under this plan too sadly \n",
      "2\n",
      "------------\n",
      " a go get it item\n",
      "1\n",
      "------------\n",
      "thumbs up https t co q cu bkn \n",
      "2\n",
      "------------\n",
      "do you want to learn more about working in canada this ski season join our online meeting tomorrow night at pm \n",
      "2\n",
      "------------\n",
      "fir facebook made an fb account mandatory for using oculus products now it s banning new que customers who tr \n",
      "2\n",
      "------------\n",
      " making big red waves for trump \n",
      "1\n",
      "------------\n",
      "what we think is ju that what we think there is always something higher than our thoughts and what you \n",
      "2\n",
      "------------\n",
      "the views from this trail in busan is stunning dadaepo eco trail dadae dong saha gu busan \n",
      "2\n",
      "------------\n",
      "sportfir numurkah vic australia get ready for christmas with sportfir they have it all wrapped up with fa \n",
      "1\n",
      "------------\n",
      "we bengal raju bista reaches cut off village in a tractor westbengal \n",
      "2\n",
      "------------\n",
      " chicharronados removethecaps a facebook group that i am a member of has contacted lawyers but no one really wants to take it on \n",
      "2\n",
      "------------\n",
      " ll be publishing a book based from the be practices of online marketers experiences and research that you need \n",
      "2\n",
      "------------\n",
      "chaiii facebook people haters will say it s photoshop tachasays for \n",
      "2\n",
      "------------\n",
      " watch some streamers who made the switch to facebook still have viewers don t tell me it s this big fairy t \n",
      "1\n",
      "------------\n",
      "how to outsmart fake news in your facebook feed \n",
      "1\n",
      "------------\n",
      "league of extraordinary authors coming soon dom diaries loea michael james \n",
      "2\n",
      "------------\n",
      " jeep i ve been driving a wrangler for yrs the bikini pearl blue you had was very popular w women i think you r \n",
      "2\n",
      "------------\n",
      "here s an exclusive chikahan with prinsesachinita for asap pop cut click here \n",
      "2\n",
      "------------\n",
      "alistair jamie freya m literally no one lorelei passing the salt hhcomicsection you can submit your mem \n",
      "1\n",
      "------------\n",
      " pba ph cup oct monday pm tnttropanggiga vs fuelmasters pm terrafirma dyip vs \n",
      "2\n",
      "------------\n",
      "facebook piously have you voted me yeah we can put more restrictions on you \n",
      "2\n",
      "------------\n",
      " pbaconnect philippine cup pbabubble pbatayoangbida p m tnttropanggiga vs fuelmasters p m \n",
      "2\n",
      "------------\n",
      "facebook and instagram dropping embedded content support on wordpre sites via wersm\n",
      "2\n",
      "------------\n",
      "join us as we celebrate the un s th birthday with a virtual gig on october at to pm to be streamed \n",
      "2\n",
      "------------\n",
      "even ceo mark zuckerberg acknowledges the possibility of outcomes unimaginable in including possible civil un \n",
      "2\n",
      "------------\n",
      "learn the rich history of one of the olde churches in ph through archivi of the u official amp author of \n",
      "2\n",
      "------------\n",
      " love when facebook tries to lecture me on voting as if the people who work there are not one of the driving forc \n",
      "2\n",
      "------------\n",
      "kenosha protesters hope other activists will make similar public walls of hateful facebook posts in other cities \n",
      "2\n",
      "------------\n",
      "india is very critical for instagram and the launch of reels has led to an explosive growth in consumption and \n",
      "2\n",
      "------------\n",
      "folk alternative act thearkduo and rap artists ijiboycruz kiara and chriilz are ready to go live with our w \n",
      "1\n",
      "------------\n",
      "if you are currently enrolled for this term s specmfi kindly join the cour s facebook group for announcements an \n",
      "2\n",
      "------------\n",
      "auckland pride invites you to join us for our fir informal chat amp idea sharing session this is an opportunity \n",
      "1\n",
      "------------\n",
      "flouri circle invites you to watch tuloy ph a community in symphony an online concert that aims to highlight th \n",
      "2\n",
      "------------\n",
      "for women ju in checkout this hot amp late palazzos styli crepe palazzos set of fabric crepe for mo \n",
      "1\n",
      "------------\n",
      "seeing your grandaunt horny posting on facebook is definitely top weirde things but it may give a great insigh \n",
      "2\n",
      "------------\n",
      "everyone s facebook timeline today \n",
      "2\n",
      "------------\n",
      " instagram facebook i gue im going to try to keep getting your attention whereisyourcustomerservice \n",
      "2\n",
      "------------\n",
      " realdonaldtrump presssec seanhannity realrlimbaugh marklevinshow senategop senhawleypre sentedcruz big te \n",
      "1\n",
      "------------\n",
      "nothing like creeping on facebook to ruin a mood\n",
      "1\n",
      "------------\n",
      "well essie put out the call on the family facebook page that our hou will not be the main gathering place for t \n",
      "2\n",
      "------------\n",
      " scroll facebook for some much needed laughs \n",
      "1\n",
      "------------\n",
      "deleted my facebook the other day kinda ju had one for family stuff but everyone s always ju bu with them \n",
      "2\n",
      "------------\n",
      "this silly facebook trend reminded me i had a pet bunny named flo in undergrad she loved salad like me and i p \n",
      "2\n",
      "------------\n",
      " dbongino the mainstream media is tra facebook google twitter amp all of it if you can t see the corruption y \n",
      "2\n",
      "------------\n",
      " therealhoar live on facebook \n",
      "2\n",
      "------------\n",
      "facebook ad boycott proved profitable for snap and pintere facebook snapchat \n",
      "2\n",
      "------------\n",
      "revolution will take place when tho billions of people will come to platforms like instagram facebook \n",
      "2\n",
      "------------\n",
      "the top teams that have made the final cut into the finals of the pubg mobile pro league americas season \n",
      "2\n",
      "------------\n",
      "what are you doing zuckerberg taking down isabella maria deluca s facebook account did she po evidence that can \n",
      "2\n",
      "------------\n",
      "made my eyes water https t co oeetokr lb \n",
      "1\n",
      "------------\n",
      "sheryl sandberg coo of facebook women leaders quote \n",
      "1\n",
      "------------\n",
      "evangelicals should take note of this catholic s clarity \n",
      "2\n",
      "------------\n",
      "if you have a facebook account show proof i asked for proof and your not giving it you can shut up \n",
      "1\n",
      "------------\n",
      "we bengal goutam deb starts a new journey in music westbengal\n",
      "2\n",
      "------------\n",
      "top dream jobs as a design contractor focusing on ux design focused in accessibility twitter twittercareers \n",
      "2\n",
      "------------\n",
      " juttonormsbyms interalliesfc but you won t believe verified twitter and facebook of inter allies right always \n",
      "2\n",
      "------------\n",
      " royalchildren_ wow wow beautiful princessleonor of spain and and princessinfantasofia with angel president princ \n",
      "2\n",
      "------------\n",
      " rhiannonu micah smartmoneypug roncoleman bellamaria facebook fake news\n",
      "1\n",
      "------------\n",
      " kurlyluhv oh my goddd that is scary and idk if there s anything to do except tell people maybe po it on faceb \n",
      "1\n",
      "------------\n",
      "comfort food that s made to share cravingsbyfei for delivery website booking \n",
      "2\n",
      "------------\n",
      "that being the ca if true the radical termination of the news by twitter and facebook to squelch the story was \n",
      "2\n",
      "------------\n",
      " likes on my facebook page to go right now julex is winning if that holds then when i hit you ll get jules \n",
      "2\n",
      "------------\n",
      " bloodyfastertv yeah instagram stopped being fun after facebook bought it \n",
      "2\n",
      "------------\n",
      "help us retweet for awarene a group has been created where prayer will be held online everyday fasting inclu \n",
      "2\n",
      "------------\n",
      " multicolourtea facebook market place sometimes has some decently priced good condition ones listed \n",
      "2\n",
      "------------\n",
      " mark wadeson maroochydore booths open don t need to take candidates flyers they not allowed on polling booths p \n",
      "2\n",
      "------------\n",
      " ryanafournier she was a trouble trump_a_maker its on facebook womans march live video wearing no ma and ju \n",
      "1\n",
      "------------\n",
      "well i m totally late to the party but this guy singing reggae songs about fruits and vegetables is my new favori \n",
      "2\n",
      "------------\n",
      "we bengal social organizations clean mirik entrance point of garbage westbengal \n",
      "2\n",
      "------------\n",
      " olibmovement i m wondering if you might not be aware of england is alive with music on facebook which i created \n",
      "2\n",
      "------------\n",
      " satanicministry ive seen that there is a link to the facebook page unfortunately that page no longer exists when i click on it \n",
      "2\n",
      "------------\n",
      "the batter up braves fb live po mortem begins now on fb live with williepstyle amp atljohnson \n",
      "2\n",
      "------------\n",
      " dannytempleton inform them that abortions are lowe when democrats are in office \n",
      "1\n",
      "------------\n",
      " making new waves big red waves for trump latinosfortrump\n",
      "2\n",
      "------------\n",
      " amz tr was amazed at the delicious variety and quality on offer when she tried the a la carte all you can eat men \n",
      "2\n",
      "------------\n",
      " hatfortune cynnerzero dannoyes igd_news funny thing is there were no proud boys there and weren t coming it w \n",
      "1\n",
      "------------\n",
      "you need to be our fan on facebook and you need to po comments that are positive regularly weekly \n",
      "1\n",
      "------------\n",
      "facebook is wild as shit on my side man its dudes on my timeline with the same son ion think they kno either\n",
      "1\n",
      "------------\n",
      " thecorollary mcwordinson of cour people attending a trump rally will gleefully scroll through their feeds for h \n",
      "2\n",
      "------------\n",
      "my mama sent me friend reque on facebook delete im not of ya lil friends remember \n",
      "2\n",
      "------------\n",
      "navaratri today s durga chandraghanta colour of the day white navaratri navaratri chandraghanta \n",
      "2\n",
      "------------\n",
      " thelemonlady yeah he s cool i ll allow it send it in facebook messenger \n",
      "2\n",
      "------------\n",
      " zebulgar this has been a refrain for years see link i al ju disagree at this point the smarte minds of o \n",
      "2\n",
      "------------\n",
      "we out here \n",
      "2\n",
      "------------\n"
     ]
    },
    {
     "name": "stdout",
     "output_type": "stream",
     "text": [
      " catch me live on theleveluppodca pm i will be talking about hotxxmagonlineradio being a busine owne \n",
      "1\n",
      "------------\n",
      " wajahatali gizmodo people get off of facebook until well after the election \n",
      "2\n",
      "------------\n",
      " dingonaut robroyaguirre dognponybrenda georgeegirl wanderlustgalli al the us unflappable intelligence commu \n",
      "2\n",
      "------------\n",
      " nowplaying zz top legs or listen unsignedarti mainstreammusic \n",
      "2\n",
      "------------\n",
      "follow our official social media pages for all updates we update all announcements here https t co aibksgsbvu \n",
      "2\n",
      "------------\n",
      "as of october at pm btc u investing fire ira k \n",
      "2\n",
      "------------\n",
      " marklevinshow that s what he gets with his dangerous thought provoking facts and common sen big tech is the rea \n",
      "1\n",
      "------------\n",
      "we bengal ajay edwards visits kalimpong motivates youth westbengal kalimpong\n",
      "2\n",
      "------------\n"
     ]
    }
   ],
   "source": [
    "pos=0\n",
    "neg=0\n",
    "\n",
    "for tweet in list_tweets:\n",
    "    tweet=re.sub(r\"^https://t.co/[a-zA-Z0-9]*\\s\",\" \",tweet)\n",
    "    tweet=re.sub(r\"\\s+https://t.co/[a-zA-Z0-9]*\\s\",\" \",tweet)\n",
    "    tweet=re.sub(r\"\\s+https://t.co/[a-zA-Z0-9]*$\",\" \",tweet)\n",
    "    tweet=tweet.lower()\n",
    "    tweet=re.sub(r'\\W',' ',tweet)\n",
    "    tweet=re.sub(r'\\d',' ',tweet)\n",
    "    tweet=re.sub(r's+[a-z]\\s+',' ',tweet)\n",
    "    tweet=re.sub(r'^[a-z]\\s+',' ',tweet)\n",
    "    tweet=re.sub(r'\\s+[a-z]$',' ',tweet)\n",
    "    tweet=re.sub(r'\\s+',' ',tweet)\n",
    "    sentiment=cls.predict(vect.transform([tweet]).toarray())[0]\n",
    "    \n",
    "    if sentiment==1:\n",
    "        neg+=1\n",
    "    else:\n",
    "        pos+=1\n",
    "        \n",
    "    print(tweet)\n",
    "    print(sentiment)\n",
    "    print('------------')\n",
    "    "
   ]
  },
  {
   "cell_type": "code",
   "execution_count": 14,
   "metadata": {},
   "outputs": [],
   "source": [
    "import matplotlib.pyplot as plt\n",
    "import numpy as np"
   ]
  },
  {
   "cell_type": "code",
   "execution_count": 15,
   "metadata": {},
   "outputs": [],
   "source": [
    "obj=[pos,neg]"
   ]
  },
  {
   "cell_type": "code",
   "execution_count": 16,
   "metadata": {},
   "outputs": [
    {
     "data": {
      "text/plain": [
       "[76, 24]"
      ]
     },
     "execution_count": 16,
     "metadata": {},
     "output_type": "execute_result"
    }
   ],
   "source": [
    "obj"
   ]
  },
  {
   "cell_type": "code",
   "execution_count": 17,
   "metadata": {},
   "outputs": [],
   "source": [
    "xlable=['pos','neg']"
   ]
  },
  {
   "cell_type": "code",
   "execution_count": 18,
   "metadata": {},
   "outputs": [
    {
     "data": {
      "text/plain": [
       "array([0, 1])"
      ]
     },
     "execution_count": 18,
     "metadata": {},
     "output_type": "execute_result"
    }
   ],
   "source": [
    "np.arange(len(obj))"
   ]
  },
  {
   "cell_type": "code",
   "execution_count": 19,
   "metadata": {},
   "outputs": [
    {
     "data": {
      "image/png": "[encoded data removed]",
      "text/plain": [
       "<Figure size 432x288 with 1 Axes>"
      ]
     },
     "metadata": {
      "needs_background": "light"
     },
     "output_type": "display_data"
    }
   ],
   "source": [
    "plt.bar(np.arange(len(obj)),obj)\n",
    "plt.xticks(np.arange(len(obj)),xlable)\n",
    "plt.show()"
   ]
  },
  {
   "cell_type": "code",
   "execution_count": null,
   "metadata": {},
   "outputs": [],
   "source": []
  }
 ],
 "metadata": {
  "kernelspec": {
   "display_name": "Python 3",
   "language": "python",
   "name": "python3"
  },
  "language_info": {
   "codemirror_mode": {
    "name": "ipython",
    "version": 3
   },
   "file_extension": ".py",
   "mimetype": "text/x-python",
   "name": "python",
   "nbconvert_exporter": "python",
   "pygments_lexer": "ipython3",
   "version": "3.6.5"
  }
 },
 "nbformat": 4,
 "nbformat_minor": 2
}
