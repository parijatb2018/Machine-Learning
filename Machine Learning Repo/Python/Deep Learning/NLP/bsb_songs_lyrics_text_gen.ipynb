{
  "nbformat": 4,
  "nbformat_minor": 0,
  "metadata": {
    "colab": {
      "name": "bsb_songs_lyrics_text_gen.ipynb",
      "provenance": [],
      "toc_visible": true
    },
    "kernelspec": {
      "name": "python3",
      "display_name": "Python 3"
    },
    "accelerator": "GPU"
  },
  "cells": [
    {
      "cell_type": "markdown",
      "metadata": {
        "id": "gs-1Qyfux35g"
      },
      "source": [
        "# TensorFlow and related libs import"
      ]
    },
    {
      "cell_type": "code",
      "metadata": {
        "id": "ohx4YQMs7ubu"
      },
      "source": [
        "import tensorflow as tf\n",
        "\n",
        "from tensorflow.keras.preprocessing.text import Tokenizer\n",
        "from tensorflow.keras.preprocessing.sequence import pad_sequences\n",
        "\n",
        "# Other imports for processing data\n",
        "import string\n",
        "import numpy as np\n",
        "import pandas as pd\n",
        "import re"
      ],
      "execution_count": 143,
      "outputs": []
    },
    {
      "cell_type": "markdown",
      "metadata": {
        "id": "oeWXPxfxyJ5j"
      },
      "source": [
        "# Mounting Google Drive and loading data"
      ]
    },
    {
      "cell_type": "code",
      "metadata": {
        "id": "Iq7RRO508BRk",
        "outputId": "ad656f9c-67c6-4825-fefa-02f2aca2227c",
        "colab": {
          "base_uri": "https://localhost:8080/",
          "height": 55
        }
      },
      "source": [
        "from google.colab import drive\n",
        "drive.mount('/content/drive')"
      ],
      "execution_count": 144,
      "outputs": [
        {
          "output_type": "stream",
          "text": [
            "Drive already mounted at /content/drive; to attempt to forcibly remount, call drive.mount(\"/content/drive\", force_remount=True).\n"
          ],
          "name": "stdout"
        }
      ]
    },
    {
      "cell_type": "markdown",
      "metadata": {
        "id": "XzDrWK1e0pAo"
      },
      "source": [
        "Data source: 'https://www.azlyrics.com/b/bsb.html' \n",
        "\"Backstreet Boys\" (1995) Album"
      ]
    },
    {
      "cell_type": "code",
      "metadata": {
        "id": "ucfqHk8J8Ns5"
      },
      "source": [
        "with open('/content/drive/My Drive/bsblyrics.txt') as f:\n",
        "  lyrics=f.read()"
      ],
      "execution_count": 145,
      "outputs": []
    },
    {
      "cell_type": "markdown",
      "metadata": {
        "id": "pXQr28fyyVCp"
      },
      "source": [
        "# Data Cleaning"
      ]
    },
    {
      "cell_type": "code",
      "metadata": {
        "id": "fixBxkCa8eSr",
        "outputId": "d75835fa-8542-4b8c-98e5-89a195afd5e2",
        "colab": {
          "base_uri": "https://localhost:8080/",
          "height": 191
        }
      },
      "source": [
        "lyrics"
      ],
      "execution_count": 146,
      "outputs": [
        {
          "output_type": "execute_result",
          "data": {
            "application/vnd.google.colaboratory.intrinsic+json": {
              "type": "string"
            },
            "text/plain": [
              "\"Everybody grove to the music\\nEverybody jam\\n\\nOh, hey\\n\\nWe've been waiting so long\\nJust can't hold it back no more\\nCreepin' up and down now\\nIt's time for me to let it go\\nIf you really wanna see\\nWhat we can do for you\\nSend the crazy wildin' static\\nSing it\\n\\n[Chorus:]\\nJam on cuz Backstreet's got it\\nCome on now everybody\\nWe've got it goin' on for years\\n[2x]\\n\\nWe've got it goin' on for years [2x]\\n\\nWell I'm creepin' up on your left\\nStraight up funky when I get with you\\nKeep it ruthless when I get wet\\nKeep the party packed in my corner\\nTough like granite to keep the crowd hype\\nGet up on this just to get right\\nWhat you want it what you gonna get\\nBackstreet's got the special effects, uh\\n\\nIf you really wanna see\\nWhat we can do for you, oh\\nI'll send the crazy wildin' static\\nSing it\\n\\n[Chorus]\\n\\nWe've got it goin' on for years [2x]\\n\\n[Bridge:]\\nWe've been waiting so long\\nJust can't hold it back no more\\n(just can't hold it back no more)\\nCreepin' up and down now\\nIt's time for me to let it go [2x]\\n\\nJam on, jam on\\n\\nEverybody groove to the music\\nEverybody jam\\n\\n[Chorus]\\n\\nWe've got it goin' on\\n\\n\\n\\nI'd go anywhere for you\\nAnywhere you asked me to\\nI'd do anything for you\\nAnything you want me to\\n\\nI'd walk halfway around the world\\nFor just one kiss from you\\nFar beyond the call of love\\nThe sun, the stars, the moon\\nAs long as your love's there to lead me\\nI won't lose my way believe me\\nEven through the darkest night you know\\n\\n[Chorus:]\\nI'd go anywhere for you\\nAnywhere you asked me to\\nI'd do anything for you\\nAnything you want me to\\nYour love as far as I can see\\nIs all I'm ever gonna need\\nThere's one thing for sure\\nI know it's true\\nBaby, I'd go anywhere for you\\n\\nI used to think that dreams were just\\nFor sentimental fools\\nAnd I'd never find someone\\nWho'd give their love so true\\nBut I knew the very minute\\nCouldn't live my life without you in it\\nAnd now I want the whole wide world\\nTo know\\n\\n[Chorus]\\n\\nHey baby, hey baby, hey baby, oh [3x]\\n\\n[Chorus 2x]\\nYou're the one for me\\nYou're my ecstasy\\nYou're the one I need\\n\\nHey, yeah\\n\\n[Chorus:]\\nGet down\\nGet down\\nAnd move it all around\\n[2x]\\n\\nHey baby love I need a girl like you\\nBut tell me if you feel it too\\nI'm in delusion every minute every hour\\nMy heart is crying out for you\\n\\n[Bridge:]\\nI feel in heaven when I look in your eyes\\nI know that you are the one for me (one for me)\\nYou drive me crazy cuz\\nYou're one of a kind\\nI want your lovin'\\nAnd I want it right now\\n\\n[Chorus (2x)]\\n\\n[Refrain:]\\nOoh baby you're so fine\\nI'm gonna make you mine\\nYour lips they taste so sweet\\nYou're the one for me\\nYou're my ecstasy\\nYou're the one I need\\n\\nRap: Smooth T.\\nBang, bang, bang\\nHere we come\\nHere we slam\\nIt's the Fun Factory\\nwith the BSB's\\nAll the girls\\nGet on your knees\\nTryin' to scream\\nOr touch me please\\nBackstreet Boys\\nAre you with it (yeah)\\nA.J. hit it\\n\\nCome on girl and get down\\nSmack it up\\nFlip it\\nAnd move it all around\\nHere it is if you wanna get with this\\nPut you on the top of my list, uh\\n\\n[Bridge]\\n\\n[Chorus (2x)]\\n\\n[Refrain]\\n\\n[Bridge]\\n\\nOoh whoa, ooh whoa, ooh whoa\\nWhoa, ooh whoa, ooh whoa\\nOoh whoa, ooh whoa, ooh whoa\\nWhoa, ooh whoa, ooh whoa, ooh\\n[2x]\\n\\nYou're the one for me\\nYou're my ecstasy\\nYou're the one I need\\n\\n[Chorus (6x)]\\n[Spoken:]\\nBaby, I know you're hurting\\nRight now you feel like you could never\\nLove again\\nNow all I ask is for a chance\\nTo prove that I love you\\n\\nFrom the first day\\nThat I saw your smiling face\\nHoney, I knew that we would\\nBe together forever\\nOoh when I asked you out\\nYou said no but I found out\\nDarling that you'd been hurt\\nYou felt like you'd never love again\\nI deserve a try honey just once\\nGive me a chance and I'll prove this all wrong\\nYou walked in, you were so quick to judge\\nBut honey he' s nothing like me\\n\\n[Chorus:]\\nI'll never break your heart\\nI'll never make you cry\\nI'd rather die than live without you\\nI'll give you all of me\\nHoney, that's no lie\\n[2x]\\n\\nAs time goes by\\nYou will get to know me\\nA little more better\\nGirl that's the way love goes baby, baby\\nAnd I (I) know you're afraid (know you're afraid)\\nTo let your feelings show (feelings show)\\nAnd I understand\\nGirl, it's time to let go (girl, it's time to let go because)\\nI deserve a try (try) honey\\nJust once (once)\\nGive me a chance (chance) and I'll prove this all wrong (wrong you walked)\\nYou walked in, you were so quick to judge (quick to judge)\\nBut honey he's nothing like me\\nDarling why can't you see\\n\\n[Chorus (2x)]\\n\\n[Bridge:]\\nNo way, no how (I'll never break your heart girl, I'll never make you cry)\\nI swear (Oh I, oh I, I swear)\\nNo way, no how (I'll never break your heart girl, I'll never make you cry)\\n\\n[Chorus (3x)]\\nBaby, oh\\n\\nEven in my heart I see\\nYou're not bein' true to me\\nDeep within my soul I feel\\nNothing's like it used to be\\nSometimes I wish I could turn back time\\nImpossible as it may seem\\nBut I wish I could so bad baby\\nQuit playin' games with my heart\\n\\nQuit playin' games with my heart (with my heart)\\nBefore you tear us apart (my heart)\\nQuit playin' games with my heart\\nI should've known from the start\\nYou know you've gotta stop (from my heart)\\nYou're tearin' us apart (my heart, my heart)\\nQuit playin' games with my heart\\n\\nI live my life the way\\nTo keep you comin' back to me\\nEverything I do is for you\\nSo what is it that you can't see\\nSometimes I wish I could turn back time,\\nImpossible as it may seem\\nBut I wish I could so bad, baby\\nYou better quit playin' games with my heart\\n\\nQuit playin' games with my heart (with my heart)\\nBefore you tear us apart (my heart)\\nQuit playin' games with my heart\\nI should've known from the start\\nYou know you've gotta stop (from my heart)\\nYou're tearin' us apart (my heart, my heart)\\nQuit playin' games with my heart\\n\\nQuit playin' games\\nBaby, baby the love that we had was so strong\\nDon't leave me hangin' here forever\\nOh baby, baby this is not alright, let's stop this tonight\\n\\nBaby, oh\\nQuit playin' games\\nNa na na na na na\\nNa na na na na baby\\nNa na na na na\\nSometimes I wish I could turn back time,\\nImpossible as it may seem\\nBut I wish I could so bad, baby\\nQuit playin' games with my heart\\n\\nQuit playin' games with my heart (with my heart)\\nBefore you tear us apart (my heart)\\nQuit playin' games with my heart\\nI should've known from the start\\nYou know you've gotta stop (from my heart)\\nYou're tearin' us apart (my heart, my heart)\\nQuit playin' games with my heart\\n\\nQuit playin' games with my heart\\nNa na na na na na\\nNa na na na na baby\\nNa na na na na\\n[2x]\\nOh ooh oh ooh oh oh\\nOh ooh oh ooh oh\\nBoys will be boys (hey)\\nOh ooh oh ooh oh oh\\nOh ooh oh ooh oh\\nBoys will be boys\\n\\nYou've got something\\nSo incredible in my eyes\\nAnd my heart (and my heart)\\nIt starts pumpin' (pumpin')\\nWhenever you're around\\nThe whole world's upside down baby\\nBut I try to get closer\\nAnd you always push me away\\nYou tell me it's much too soon\\nBut I just can't help it\\nI always gotta make a play\\n\\nOh ooh oh ooh oh oh\\nOh ooh oh ooh oh\\nBoys will be boys (hey hey)\\nOh ooh oh ooh oh oh\\nOh ooh oh ooh oh\\nBaby, boys will be boys\\n\\nAll my senses\\nGo right into overdrive\\nOh my defenses\\nI'm never gonna hope\\nI always gotta lose control\\nAnd I hear you say\\nThat you think that we should wait\\nAnd I can't hold on anymore\\nMy body's callin' for you\\nSo please don't hesitate\\n\\nOh ooh oh ooh oh oh\\nOh ooh oh ooh oh\\nBoys will be boys (you oughta know by now baby)\\nOh ooh oh ooh oh oh\\nOh ooh oh ooh oh (oh baby)\\nBoys will be boys\\nOh ooh oh ooh oh oh (oh oh)\\nOh ooh oh ooh oh\\nBoys will be boys (you oughta know by now baby)\\nOh ooh oh ooh oh oh\\nOh ooh oh ooh oh\\nBoys will be boys (I gotta do what I gotta do baby)\\nGo go go...\\n\\nAnd I hear you say\\nThat you think that we should wait\\nAnd I can't hold on anymore\\nMy body's callin' for you\\nSo please don't hesitate\\nMy body's callin' for you\\nSo please don't hesitate\\n\\nOh ooh oh ooh oh oh\\nOh ooh oh ooh oh\\nBoys will be be boys (boys will be boys)\\nOh ooh oh ooh oh oh\\nOh ooh oh ooh oh\\nBoys will be boys (you oughta know by now baby)\\nOh ooh oh ooh oh oh (oh oh yeah)\\nOh ooh oh ooh oh\\nBoys will be boys (you know I gotta do what I gotta do baby)\\nOh ooh oh ooh oh oh\\nOh ooh oh ooh oh\\nBaby, boys will be boys (boys will be boys)\\nThis is for the lovers\\nStrictly for the lovers yeah\\nYou got someone you wanna get close to?\\nThen get close to this\\nOoh ooh ooh ooh\\nJust to be close to you\\nYo, drop the verse\\n\\nLike a flower to a tree\\nThat's how close I wanna be\\nTo your heart (baby to your heart, heart)\\nLike the stars to the night\\nAnd daytime is to light\\nWe'll never part (we'll never part)\\nI want you to be (I want you to be)\\nThe only thing that I see (ooh ooh)\\nCuz I believe it's our destiny\\n\\n[Chorus:]\\nJust to be close\\nJust to be close\\nIt's the only thing\\nThat I wanna do ooh\\nJust to be close\\nJust to be close\\nJust to be close to you\\nJust to be close\\n\\nSo lonely is the night\\nWihout you to hold me tight\\n(I wanna hold you closer)\\nI need you\\n(Baby hold me closer, closer)\\nMy life would mean nothing\\nWithout the joy you bring to me\\nYou know, you know, you know\\nThere would never be\\nNo one else for me\\nYou are like a dream that became reality\\n\\n[Chorus]\\n\\nI'm gonna give you all my love\\nI'm gonna give it to you\\nI'm gonna give it to you all my love (all my love)\\nI'm gonna give it to you\\nI'm gonna give it to you\\nGive you everything you need (all my love)\\nI'm gonna give it to you\\nI'm gonna give you all you want\\nTo be close to you (to be close to you)\\nClose to you (close to you)\\n\\n[Chorus]\\n\\nI don't want to be alone\\nI'll never never never ever let you go\\nJust want to be close to you\\nI don't want to be alone\\nGirl I'll never never never ever let you go\\nJust to be close\\nThere'll never be (never be)\\nNo one else for me\\nYou are like a dream that became reality\\n\\n[Chorus]\\n\\nOoh ooh ooh ooh\\nI just wanna be close\\nTo you\\nI wanna be with you\\nIt's crazy but it's true\\nAnd everything I do\\nI wanna be with you\\n\\nI'd like to know your policy\\nWhen it comes to me\\nLike to know what's in your mind\\nIt's not easy to see\\nI know now what I feel\\nAnd what to do\\nI wanna be with you\\nAnd I'll be waitin'\\nUntil you face the truth\\nWhen the light is fadin'\\nYou know what I wanna do\\n\\n[Chorus:]\\nI wanna be with you\\nIt's crazy but it's true (you know it's true)\\nAnd everything I do (is for you baby)\\nI wanna be with you (oh with you)\\n\\n[Bridge:]\\nEverybody say hey\\nYeah, see you once again\\nYeah, everybody swing Yeah, everybody Yeah, everybody swing\\n\\nWish you'd come and set me free\\nSo that I can see\\nAll the things I've left behind\\nWhat's missin' in me\\nI'm lookin' for a sign\\nIn the things you do\\nI wanna be with you\\nAnd I'll be waitin'\\nUntil you face the truth\\nWhen the light is fadin'\\nYou know what I wanna do\\n\\n[Chorus]\\n\\n[Bridge]\\n\\nI wanna be with you\\nIt's crazy but it's true\\nAnd everything I do\\nI wanna be with you\\n[2x]\\n\\nI wanna be with you (I wanna be with you)\\nIt's crazy but it's true (It's crazy but it's true)\\nAnd everything I do (And everything I do)\\nI wanna be with you (I wanna be with you)\\nHey yeah\\nAnd everything I do\\nI wanna be with you\\nEverytime I close my eyes\\nEverytime I close my eyes\\n\\nListen girl I don't know where to start\\nBut every word I say comes straight from the heart\\nI've been so wrong\\nI never meant to hurt you\\nOh girl, I'm sorry\\nFor what I put you through\\nGirl I'd do anything\\nFor one more chance (one more chance)\\nCuz I want you back again (want you back)\\n\\n[Chorus:]\\nCuz everytime I close my eyes\\nI see your face and I wonder\\nWhen you close your eyes\\nDo you think about me?\\nNow I realize\\nI want you girl and no other\\nEverytime I close my eyes\\nYou're all that I see\\n\\nYou and I shared a life together\\nEach other, was all we'd ever need (all we'd ever need)\\nI thought you would stay with me forever\\nBut I took for granted\\nThe love you gave to me\\nI keep on tryin' (keep on tryin')\\n'Til the end ('til the end)\\nBaby I need you back with me again (I need you back)\\n\\n[Chorus]\\n\\nAnd girl I'm goin' out of my mind\\nI miss you so much\\nI don't know what to do (what to do)\\nPlease say it's just a matter of time\\nUntil I feel your touch\\nUntil you let me come back to you I'm in love with you\\n\\nI think about you girl everynight\\nI'm in love and it feels so right\\nI never meant to hurt you or cause you pain\\nI was just caught up in that lying game\\nBut now those days are over\\nI've changed my ways\\nAnd now I'm countin' the minutes\\nI'm countin' the days\\nUntil you let me come back\\nUntil you let me start\\nTo find a new way to get back into your heart\\n\\nGirl I'd do anything for one more chance (one more chance)\\nCuz I want you\\nI want you back again (I want you back)\\n\\n[Chorus]\\n[Spoken:]\\nBaby, can I talk to you?\\nI know something's wrong\\nThings just ain't the same\\nBut deep down inside\\nI know you still care\\nSo tell me what to do\\nTo get things back\\nThe way they used to be\\n\\nIf your words had meaning\\nIf you really cared about me\\nTell me why can't I find love in your heart\\nIf you were my lover\\nA constant friend to me\\nTell me why\\nWould you turn away from my love\\n\\n[Chorus:]\\nSo darlin'\\nTell me what to do to make things right\\nDarlin'\\nTell me what to do to make things right\\nDarlin'\\nTell me what to do to make things right for love\\nTell me what to do to make things right for love (for love)\\n\\nIf your words have reason\\nWhen they won't turn away from me\\nThey're trying hard to hide all truth they might say\\nIf you listen to me girl\\nIf you know how I'm feeling inside\\nThen maybe you wouldn't shut me out your life, baby\\n\\n[Chorus]\\n\\n[Bridge:]\\nCan't you see?\\nAll I'm asking for\\nIs a chance to let me love you\\nCan't you see?\\nGirl, you know with me\\nIs where you should be\\nAnd if by chance we should find\\nThat it can be for you and I\\nThen girl I'll try\\nI'll try\\nOh baby\\n\\n[Chorus]\\n\\n[Spoken:]\\nGirl, you should know how I feel by now\\nThere's so many ways to love\\nSo just open your heart\\nAnd I'll find the way\\n\\n[Bridge]\\n\\n[Chorus]\\nBut all I wanna know is where the party at [2x]\\nLet's have a party [2x]\\n(But all I wanna know is where the party at)\\nEverybody\\nLet's have a party\\n(But all I wanna know is where the party at)\\n\\nI've been watching you\\nYou've been watching me\\nLet's stop playin' games girl\\nCome and dance with me\\nDon't you hear the music\\nDon't you feel the groove yeah\\nCome on girl get on the floor\\nI wanna dance with you\\n(But all I wanna know is where the party at)\\n\\nLet's have a party\\nEverybody, throw your hands up in the air\\nLet's have a party\\nI like the way you swing yeah\\n(But all I wanna know is where the party at)\\nEverybody\\nGirl you know, mmm, you're lookin' good\\nLet's have a party\\nGirl you gotta work that body\\n(But all I wanna know is where the party at)\\n\\nGirl I must be dreamin'\\nTo have a night like this\\nHoldin' hands bein' close\\nSharin' our first kiss\\nYou really blow my mind\\nI can't believe it's true\\nI've been waiting all night long\\nTo get a girl like you\\n(But all I wanna know is where the party at)\\n\\nLet's have a party (shake it baby, shake it)\\nWe're movin' to the groove yeah\\nLet's have a party\\nAll the fellas and the honeys get on the floor\\n(But all I wanna know is where the party at)\\nEverybody\\nCuz we're gonna have a party\\nLet's have a party\\nSo everybody can enjoy yourself with me\\n(But all I wanna know is where the party at)\\n\\n[RAP:]\\nWelcome everybody\\nTo the party\\nDon't forget the honeys\\nThe mad fun has just begun at the party, yo\\nGive a call or beep\\nAnd make sure your girl ain't creepin'\\nIt's time to get it on\\nThe dance floor\\nYou want more than what you came here for\\nI see you lookin' at me\\nAcross the dance floor\\nI wish for that sweet little kiss\\nDon't be no Cinderella\\nAnd go poof after midnight\\nUh yeah\\n\\nBut all I wanna know is where the party at [5x]\\n\\nLet's have a party (shake it baby, shake it)\\nI like, mmm, everybody\\nLet's have a party\\nThrow you hands up everybody, everybody\\nEverybody\\nGirl you know, mmm, you're lookin' good\\nLet's have a party\\nI like the way you swing yeah\\n(But all I wanna know is where the party at)\\nLet's have a party (mmm, shake it baby)\\nWe're movin' to the groove yeah\\nLet's have a party\\nEverybody\\n(But all I wanna know is where the party at)\\nThrow your hands up\\nEverybody (Shake it baby, shake it)\\nCuz we're gonna have a party\\nSo everybody can enjoy yourself with me\\nRoll with it\\nRoll with it (oh yeah)\\nRoll with it\\nYou've got to roll with it\\n\\nIf you ever feel\\nLike no one cares\\nWhen you try your best\\nBut you get nowhere\\nDon't give in\\nCuz good times\\nWill come again hey\\nWhen they criticize\\nEvery move you make\\nAnd you've had as much\\nAs you're gonna take\\nDon't you worry\\nSoon enough things will change, ohh\\n\\n[Bridge:]\\nAnd when it seems as though\\nNobody understands young man (understand young man)\\nOh don't you let your head hang down\\nYoung woman just stick to your plan\\n\\nYou've got to roll with it (that's whatcha gotta do)\\nRoll with it (yeah, yeah)\\nRoll with it (oh yeah)\\nYou've got to roll wih it (that's whatcha gotta do)\\nRoll with it (just roll with it)\\nRoll with it (roll with it)\\nYou've got to roll (you've got to roll)\\n\\nJust roll with it\\nEverything will be fine\\nJust roll with it\\nIt's gonna be alright\\nJust roll with it\\nDon't put yourself down\\nJust roll with it\\n\\nIf you just can't find\\nSomeone to trust\\nAnd when you give your heart\\nBut you don't get much\\nDon't you worry\\nYour time is gonna come, oh yeah\\nThe whole world's a school\\nSo much to learn\\nSo learn it well young man\\nThe whole world's a stage\\nSome act the fool\\nYoung woman understand\\n\\nYou've got to roll\\nRoll with it (you've got to roll)\\nRoll with it (that's whatcha gotta do)\\nRoll with it (roll with it)\\nYou've got to roll with it (that's whatcha gotta do)\\nRoll with it (ooh yeah)\\nRoll with it (roll with it)\\nYou've got to roll with it (you've got to roll with it)\\n\\nJust roll with it (roll)\\nJust roll with it\\nJust roll with it\\nEverybody just\\nJust roll with it\\nCome on now\\nJust roll with it\\nBackstreet's say\\nJust roll with it\\nCome on y'all\\nJust roll with it\\n\\n[Bridge]\\n\\nYou've got to roll\\nRoll with it (all the fellas roll)\\nRoll with it (all the ladies roll)\\nRoll with it (everybody roll)\\nYou've got to roll with it (just roll)\\nRoll with it\\nRoll with it (just roll with it)\\nYou've got to roll with it (you've got to)\\nJust roll with it\\nRoll with it (you've got to)\\nJust roll with it\\nRoll with it (you've got to roll)\\nJust roll with it\\nYou've got to roll with it (you've got to roll with it)\\nJust roll with it (everybody roll with it)\\nJust roll with it\\nRoll with it (you've got to roll with it)\\nJust roll with it (You've got to roll with it)\\nJust roll with it\\nYou've got to roll with it (you've got to roll, you've got to roll)\\nYou've got to roll with it\\nEverybody, anybody, everybody roll with it\\nEverybody, anybody everybody roll\\nYou've got to roll with it\\nEverybody, anybody, everybody roll with it\\nEverybody, anybody, everybody roll\\nYou've got to roll with it (just roll)\\nAin't nobody else but you [3x]\\n\\nThere is nobody\\nWho can make me cry\\nNobody else can do it\\nNobody but you [2x]\\nAin't nobody else but you\\nThere is nobody\\nWho can make me lie\\nNobody else can do it\\nNobody but you [2x]\\nAin't nobody else but you\\nNobody, nobody but you\\nGimme one more chance to make it right\\nTime has come for us to reunite\\nCuz baby it's true\\nAin't nobody else but you\\nThere's no one like you\\n\\nThere is nobody\\nWho can make it right\\nNobody else can do it\\nNobody but you\\nYou know what to do\\nAin't nobody else but you\\nNobody, (nobody) nobody but you\\nYeah\\nSomebody tell me\\nCuz I can't eat or sleep\\nWhen you're not close to my body\\nYou're a bittersweet delight\\nCome and help me through the night\\n\\nAin't nobody else can make me cry\\nAin't nobody else can make me lie\\nNobody but you\\nAin't nobody else but you\\nNobody but you\\nNo one can make me lie\\nGimme one more chance to make it right\\nTime has come for us to reunite\\nCuz baby it's true\\nAin't nobody else but you\\nThere's no one like you\\n\\n\""
            ]
          },
          "metadata": {
            "tags": []
          },
          "execution_count": 146
        }
      ]
    },
    {
      "cell_type": "code",
      "metadata": {
        "id": "vhvnK1lh8fKB"
      },
      "source": [
        "lyrics=re.sub(r'\\[.+\\]',' ',lyrics)"
      ],
      "execution_count": 147,
      "outputs": []
    },
    {
      "cell_type": "code",
      "metadata": {
        "id": "ocsMWDOy8ibp",
        "outputId": "581c1c4e-56e1-4910-e9db-a915d8797511",
        "colab": {
          "base_uri": "https://localhost:8080/",
          "height": 191
        }
      },
      "source": [
        "lyrics"
      ],
      "execution_count": 148,
      "outputs": [
        {
          "output_type": "execute_result",
          "data": {
            "application/vnd.google.colaboratory.intrinsic+json": {
              "type": "string"
            },
            "text/plain": [
              "\"Everybody grove to the music\\nEverybody jam\\n\\nOh, hey\\n\\nWe've been waiting so long\\nJust can't hold it back no more\\nCreepin' up and down now\\nIt's time for me to let it go\\nIf you really wanna see\\nWhat we can do for you\\nSend the crazy wildin' static\\nSing it\\n\\n \\nJam on cuz Backstreet's got it\\nCome on now everybody\\nWe've got it goin' on for years\\n \\n\\nWe've got it goin' on for years  \\n\\nWell I'm creepin' up on your left\\nStraight up funky when I get with you\\nKeep it ruthless when I get wet\\nKeep the party packed in my corner\\nTough like granite to keep the crowd hype\\nGet up on this just to get right\\nWhat you want it what you gonna get\\nBackstreet's got the special effects, uh\\n\\nIf you really wanna see\\nWhat we can do for you, oh\\nI'll send the crazy wildin' static\\nSing it\\n\\n \\n\\nWe've got it goin' on for years  \\n\\n \\nWe've been waiting so long\\nJust can't hold it back no more\\n(just can't hold it back no more)\\nCreepin' up and down now\\nIt's time for me to let it go  \\n\\nJam on, jam on\\n\\nEverybody groove to the music\\nEverybody jam\\n\\n \\n\\nWe've got it goin' on\\n\\n\\n\\nI'd go anywhere for you\\nAnywhere you asked me to\\nI'd do anything for you\\nAnything you want me to\\n\\nI'd walk halfway around the world\\nFor just one kiss from you\\nFar beyond the call of love\\nThe sun, the stars, the moon\\nAs long as your love's there to lead me\\nI won't lose my way believe me\\nEven through the darkest night you know\\n\\n \\nI'd go anywhere for you\\nAnywhere you asked me to\\nI'd do anything for you\\nAnything you want me to\\nYour love as far as I can see\\nIs all I'm ever gonna need\\nThere's one thing for sure\\nI know it's true\\nBaby, I'd go anywhere for you\\n\\nI used to think that dreams were just\\nFor sentimental fools\\nAnd I'd never find someone\\nWho'd give their love so true\\nBut I knew the very minute\\nCouldn't live my life without you in it\\nAnd now I want the whole wide world\\nTo know\\n\\n \\n\\nHey baby, hey baby, hey baby, oh  \\n\\n \\nYou're the one for me\\nYou're my ecstasy\\nYou're the one I need\\n\\nHey, yeah\\n\\n \\nGet down\\nGet down\\nAnd move it all around\\n \\n\\nHey baby love I need a girl like you\\nBut tell me if you feel it too\\nI'm in delusion every minute every hour\\nMy heart is crying out for you\\n\\n \\nI feel in heaven when I look in your eyes\\nI know that you are the one for me (one for me)\\nYou drive me crazy cuz\\nYou're one of a kind\\nI want your lovin'\\nAnd I want it right now\\n\\n \\n\\n \\nOoh baby you're so fine\\nI'm gonna make you mine\\nYour lips they taste so sweet\\nYou're the one for me\\nYou're my ecstasy\\nYou're the one I need\\n\\nRap: Smooth T.\\nBang, bang, bang\\nHere we come\\nHere we slam\\nIt's the Fun Factory\\nwith the BSB's\\nAll the girls\\nGet on your knees\\nTryin' to scream\\nOr touch me please\\nBackstreet Boys\\nAre you with it (yeah)\\nA.J. hit it\\n\\nCome on girl and get down\\nSmack it up\\nFlip it\\nAnd move it all around\\nHere it is if you wanna get with this\\nPut you on the top of my list, uh\\n\\n \\n\\n \\n\\n \\n\\n \\n\\nOoh whoa, ooh whoa, ooh whoa\\nWhoa, ooh whoa, ooh whoa\\nOoh whoa, ooh whoa, ooh whoa\\nWhoa, ooh whoa, ooh whoa, ooh\\n \\n\\nYou're the one for me\\nYou're my ecstasy\\nYou're the one I need\\n\\n \\n \\nBaby, I know you're hurting\\nRight now you feel like you could never\\nLove again\\nNow all I ask is for a chance\\nTo prove that I love you\\n\\nFrom the first day\\nThat I saw your smiling face\\nHoney, I knew that we would\\nBe together forever\\nOoh when I asked you out\\nYou said no but I found out\\nDarling that you'd been hurt\\nYou felt like you'd never love again\\nI deserve a try honey just once\\nGive me a chance and I'll prove this all wrong\\nYou walked in, you were so quick to judge\\nBut honey he' s nothing like me\\n\\n \\nI'll never break your heart\\nI'll never make you cry\\nI'd rather die than live without you\\nI'll give you all of me\\nHoney, that's no lie\\n \\n\\nAs time goes by\\nYou will get to know me\\nA little more better\\nGirl that's the way love goes baby, baby\\nAnd I (I) know you're afraid (know you're afraid)\\nTo let your feelings show (feelings show)\\nAnd I understand\\nGirl, it's time to let go (girl, it's time to let go because)\\nI deserve a try (try) honey\\nJust once (once)\\nGive me a chance (chance) and I'll prove this all wrong (wrong you walked)\\nYou walked in, you were so quick to judge (quick to judge)\\nBut honey he's nothing like me\\nDarling why can't you see\\n\\n \\n\\n \\nNo way, no how (I'll never break your heart girl, I'll never make you cry)\\nI swear (Oh I, oh I, I swear)\\nNo way, no how (I'll never break your heart girl, I'll never make you cry)\\n\\n \\nBaby, oh\\n\\nEven in my heart I see\\nYou're not bein' true to me\\nDeep within my soul I feel\\nNothing's like it used to be\\nSometimes I wish I could turn back time\\nImpossible as it may seem\\nBut I wish I could so bad baby\\nQuit playin' games with my heart\\n\\nQuit playin' games with my heart (with my heart)\\nBefore you tear us apart (my heart)\\nQuit playin' games with my heart\\nI should've known from the start\\nYou know you've gotta stop (from my heart)\\nYou're tearin' us apart (my heart, my heart)\\nQuit playin' games with my heart\\n\\nI live my life the way\\nTo keep you comin' back to me\\nEverything I do is for you\\nSo what is it that you can't see\\nSometimes I wish I could turn back time,\\nImpossible as it may seem\\nBut I wish I could so bad, baby\\nYou better quit playin' games with my heart\\n\\nQuit playin' games with my heart (with my heart)\\nBefore you tear us apart (my heart)\\nQuit playin' games with my heart\\nI should've known from the start\\nYou know you've gotta stop (from my heart)\\nYou're tearin' us apart (my heart, my heart)\\nQuit playin' games with my heart\\n\\nQuit playin' games\\nBaby, baby the love that we had was so strong\\nDon't leave me hangin' here forever\\nOh baby, baby this is not alright, let's stop this tonight\\n\\nBaby, oh\\nQuit playin' games\\nNa na na na na na\\nNa na na na na baby\\nNa na na na na\\nSometimes I wish I could turn back time,\\nImpossible as it may seem\\nBut I wish I could so bad, baby\\nQuit playin' games with my heart\\n\\nQuit playin' games with my heart (with my heart)\\nBefore you tear us apart (my heart)\\nQuit playin' games with my heart\\nI should've known from the start\\nYou know you've gotta stop (from my heart)\\nYou're tearin' us apart (my heart, my heart)\\nQuit playin' games with my heart\\n\\nQuit playin' games with my heart\\nNa na na na na na\\nNa na na na na baby\\nNa na na na na\\n \\nOh ooh oh ooh oh oh\\nOh ooh oh ooh oh\\nBoys will be boys (hey)\\nOh ooh oh ooh oh oh\\nOh ooh oh ooh oh\\nBoys will be boys\\n\\nYou've got something\\nSo incredible in my eyes\\nAnd my heart (and my heart)\\nIt starts pumpin' (pumpin')\\nWhenever you're around\\nThe whole world's upside down baby\\nBut I try to get closer\\nAnd you always push me away\\nYou tell me it's much too soon\\nBut I just can't help it\\nI always gotta make a play\\n\\nOh ooh oh ooh oh oh\\nOh ooh oh ooh oh\\nBoys will be boys (hey hey)\\nOh ooh oh ooh oh oh\\nOh ooh oh ooh oh\\nBaby, boys will be boys\\n\\nAll my senses\\nGo right into overdrive\\nOh my defenses\\nI'm never gonna hope\\nI always gotta lose control\\nAnd I hear you say\\nThat you think that we should wait\\nAnd I can't hold on anymore\\nMy body's callin' for you\\nSo please don't hesitate\\n\\nOh ooh oh ooh oh oh\\nOh ooh oh ooh oh\\nBoys will be boys (you oughta know by now baby)\\nOh ooh oh ooh oh oh\\nOh ooh oh ooh oh (oh baby)\\nBoys will be boys\\nOh ooh oh ooh oh oh (oh oh)\\nOh ooh oh ooh oh\\nBoys will be boys (you oughta know by now baby)\\nOh ooh oh ooh oh oh\\nOh ooh oh ooh oh\\nBoys will be boys (I gotta do what I gotta do baby)\\nGo go go...\\n\\nAnd I hear you say\\nThat you think that we should wait\\nAnd I can't hold on anymore\\nMy body's callin' for you\\nSo please don't hesitate\\nMy body's callin' for you\\nSo please don't hesitate\\n\\nOh ooh oh ooh oh oh\\nOh ooh oh ooh oh\\nBoys will be be boys (boys will be boys)\\nOh ooh oh ooh oh oh\\nOh ooh oh ooh oh\\nBoys will be boys (you oughta know by now baby)\\nOh ooh oh ooh oh oh (oh oh yeah)\\nOh ooh oh ooh oh\\nBoys will be boys (you know I gotta do what I gotta do baby)\\nOh ooh oh ooh oh oh\\nOh ooh oh ooh oh\\nBaby, boys will be boys (boys will be boys)\\nThis is for the lovers\\nStrictly for the lovers yeah\\nYou got someone you wanna get close to?\\nThen get close to this\\nOoh ooh ooh ooh\\nJust to be close to you\\nYo, drop the verse\\n\\nLike a flower to a tree\\nThat's how close I wanna be\\nTo your heart (baby to your heart, heart)\\nLike the stars to the night\\nAnd daytime is to light\\nWe'll never part (we'll never part)\\nI want you to be (I want you to be)\\nThe only thing that I see (ooh ooh)\\nCuz I believe it's our destiny\\n\\n \\nJust to be close\\nJust to be close\\nIt's the only thing\\nThat I wanna do ooh\\nJust to be close\\nJust to be close\\nJust to be close to you\\nJust to be close\\n\\nSo lonely is the night\\nWihout you to hold me tight\\n(I wanna hold you closer)\\nI need you\\n(Baby hold me closer, closer)\\nMy life would mean nothing\\nWithout the joy you bring to me\\nYou know, you know, you know\\nThere would never be\\nNo one else for me\\nYou are like a dream that became reality\\n\\n \\n\\nI'm gonna give you all my love\\nI'm gonna give it to you\\nI'm gonna give it to you all my love (all my love)\\nI'm gonna give it to you\\nI'm gonna give it to you\\nGive you everything you need (all my love)\\nI'm gonna give it to you\\nI'm gonna give you all you want\\nTo be close to you (to be close to you)\\nClose to you (close to you)\\n\\n \\n\\nI don't want to be alone\\nI'll never never never ever let you go\\nJust want to be close to you\\nI don't want to be alone\\nGirl I'll never never never ever let you go\\nJust to be close\\nThere'll never be (never be)\\nNo one else for me\\nYou are like a dream that became reality\\n\\n \\n\\nOoh ooh ooh ooh\\nI just wanna be close\\nTo you\\nI wanna be with you\\nIt's crazy but it's true\\nAnd everything I do\\nI wanna be with you\\n\\nI'd like to know your policy\\nWhen it comes to me\\nLike to know what's in your mind\\nIt's not easy to see\\nI know now what I feel\\nAnd what to do\\nI wanna be with you\\nAnd I'll be waitin'\\nUntil you face the truth\\nWhen the light is fadin'\\nYou know what I wanna do\\n\\n \\nI wanna be with you\\nIt's crazy but it's true (you know it's true)\\nAnd everything I do (is for you baby)\\nI wanna be with you (oh with you)\\n\\n \\nEverybody say hey\\nYeah, see you once again\\nYeah, everybody swing Yeah, everybody Yeah, everybody swing\\n\\nWish you'd come and set me free\\nSo that I can see\\nAll the things I've left behind\\nWhat's missin' in me\\nI'm lookin' for a sign\\nIn the things you do\\nI wanna be with you\\nAnd I'll be waitin'\\nUntil you face the truth\\nWhen the light is fadin'\\nYou know what I wanna do\\n\\n \\n\\n \\n\\nI wanna be with you\\nIt's crazy but it's true\\nAnd everything I do\\nI wanna be with you\\n \\n\\nI wanna be with you (I wanna be with you)\\nIt's crazy but it's true (It's crazy but it's true)\\nAnd everything I do (And everything I do)\\nI wanna be with you (I wanna be with you)\\nHey yeah\\nAnd everything I do\\nI wanna be with you\\nEverytime I close my eyes\\nEverytime I close my eyes\\n\\nListen girl I don't know where to start\\nBut every word I say comes straight from the heart\\nI've been so wrong\\nI never meant to hurt you\\nOh girl, I'm sorry\\nFor what I put you through\\nGirl I'd do anything\\nFor one more chance (one more chance)\\nCuz I want you back again (want you back)\\n\\n \\nCuz everytime I close my eyes\\nI see your face and I wonder\\nWhen you close your eyes\\nDo you think about me?\\nNow I realize\\nI want you girl and no other\\nEverytime I close my eyes\\nYou're all that I see\\n\\nYou and I shared a life together\\nEach other, was all we'd ever need (all we'd ever need)\\nI thought you would stay with me forever\\nBut I took for granted\\nThe love you gave to me\\nI keep on tryin' (keep on tryin')\\n'Til the end ('til the end)\\nBaby I need you back with me again (I need you back)\\n\\n \\n\\nAnd girl I'm goin' out of my mind\\nI miss you so much\\nI don't know what to do (what to do)\\nPlease say it's just a matter of time\\nUntil I feel your touch\\nUntil you let me come back to you I'm in love with you\\n\\nI think about you girl everynight\\nI'm in love and it feels so right\\nI never meant to hurt you or cause you pain\\nI was just caught up in that lying game\\nBut now those days are over\\nI've changed my ways\\nAnd now I'm countin' the minutes\\nI'm countin' the days\\nUntil you let me come back\\nUntil you let me start\\nTo find a new way to get back into your heart\\n\\nGirl I'd do anything for one more chance (one more chance)\\nCuz I want you\\nI want you back again (I want you back)\\n\\n \\n \\nBaby, can I talk to you?\\nI know something's wrong\\nThings just ain't the same\\nBut deep down inside\\nI know you still care\\nSo tell me what to do\\nTo get things back\\nThe way they used to be\\n\\nIf your words had meaning\\nIf you really cared about me\\nTell me why can't I find love in your heart\\nIf you were my lover\\nA constant friend to me\\nTell me why\\nWould you turn away from my love\\n\\n \\nSo darlin'\\nTell me what to do to make things right\\nDarlin'\\nTell me what to do to make things right\\nDarlin'\\nTell me what to do to make things right for love\\nTell me what to do to make things right for love (for love)\\n\\nIf your words have reason\\nWhen they won't turn away from me\\nThey're trying hard to hide all truth they might say\\nIf you listen to me girl\\nIf you know how I'm feeling inside\\nThen maybe you wouldn't shut me out your life, baby\\n\\n \\n\\n \\nCan't you see?\\nAll I'm asking for\\nIs a chance to let me love you\\nCan't you see?\\nGirl, you know with me\\nIs where you should be\\nAnd if by chance we should find\\nThat it can be for you and I\\nThen girl I'll try\\nI'll try\\nOh baby\\n\\n \\n\\n \\nGirl, you should know how I feel by now\\nThere's so many ways to love\\nSo just open your heart\\nAnd I'll find the way\\n\\n \\n\\n \\nBut all I wanna know is where the party at  \\nLet's have a party  \\n(But all I wanna know is where the party at)\\nEverybody\\nLet's have a party\\n(But all I wanna know is where the party at)\\n\\nI've been watching you\\nYou've been watching me\\nLet's stop playin' games girl\\nCome and dance with me\\nDon't you hear the music\\nDon't you feel the groove yeah\\nCome on girl get on the floor\\nI wanna dance with you\\n(But all I wanna know is where the party at)\\n\\nLet's have a party\\nEverybody, throw your hands up in the air\\nLet's have a party\\nI like the way you swing yeah\\n(But all I wanna know is where the party at)\\nEverybody\\nGirl you know, mmm, you're lookin' good\\nLet's have a party\\nGirl you gotta work that body\\n(But all I wanna know is where the party at)\\n\\nGirl I must be dreamin'\\nTo have a night like this\\nHoldin' hands bein' close\\nSharin' our first kiss\\nYou really blow my mind\\nI can't believe it's true\\nI've been waiting all night long\\nTo get a girl like you\\n(But all I wanna know is where the party at)\\n\\nLet's have a party (shake it baby, shake it)\\nWe're movin' to the groove yeah\\nLet's have a party\\nAll the fellas and the honeys get on the floor\\n(But all I wanna know is where the party at)\\nEverybody\\nCuz we're gonna have a party\\nLet's have a party\\nSo everybody can enjoy yourself with me\\n(But all I wanna know is where the party at)\\n\\n \\nWelcome everybody\\nTo the party\\nDon't forget the honeys\\nThe mad fun has just begun at the party, yo\\nGive a call or beep\\nAnd make sure your girl ain't creepin'\\nIt's time to get it on\\nThe dance floor\\nYou want more than what you came here for\\nI see you lookin' at me\\nAcross the dance floor\\nI wish for that sweet little kiss\\nDon't be no Cinderella\\nAnd go poof after midnight\\nUh yeah\\n\\nBut all I wanna know is where the party at  \\n\\nLet's have a party (shake it baby, shake it)\\nI like, mmm, everybody\\nLet's have a party\\nThrow you hands up everybody, everybody\\nEverybody\\nGirl you know, mmm, you're lookin' good\\nLet's have a party\\nI like the way you swing yeah\\n(But all I wanna know is where the party at)\\nLet's have a party (mmm, shake it baby)\\nWe're movin' to the groove yeah\\nLet's have a party\\nEverybody\\n(But all I wanna know is where the party at)\\nThrow your hands up\\nEverybody (Shake it baby, shake it)\\nCuz we're gonna have a party\\nSo everybody can enjoy yourself with me\\nRoll with it\\nRoll with it (oh yeah)\\nRoll with it\\nYou've got to roll with it\\n\\nIf you ever feel\\nLike no one cares\\nWhen you try your best\\nBut you get nowhere\\nDon't give in\\nCuz good times\\nWill come again hey\\nWhen they criticize\\nEvery move you make\\nAnd you've had as much\\nAs you're gonna take\\nDon't you worry\\nSoon enough things will change, ohh\\n\\n \\nAnd when it seems as though\\nNobody understands young man (understand young man)\\nOh don't you let your head hang down\\nYoung woman just stick to your plan\\n\\nYou've got to roll with it (that's whatcha gotta do)\\nRoll with it (yeah, yeah)\\nRoll with it (oh yeah)\\nYou've got to roll wih it (that's whatcha gotta do)\\nRoll with it (just roll with it)\\nRoll with it (roll with it)\\nYou've got to roll (you've got to roll)\\n\\nJust roll with it\\nEverything will be fine\\nJust roll with it\\nIt's gonna be alright\\nJust roll with it\\nDon't put yourself down\\nJust roll with it\\n\\nIf you just can't find\\nSomeone to trust\\nAnd when you give your heart\\nBut you don't get much\\nDon't you worry\\nYour time is gonna come, oh yeah\\nThe whole world's a school\\nSo much to learn\\nSo learn it well young man\\nThe whole world's a stage\\nSome act the fool\\nYoung woman understand\\n\\nYou've got to roll\\nRoll with it (you've got to roll)\\nRoll with it (that's whatcha gotta do)\\nRoll with it (roll with it)\\nYou've got to roll with it (that's whatcha gotta do)\\nRoll with it (ooh yeah)\\nRoll with it (roll with it)\\nYou've got to roll with it (you've got to roll with it)\\n\\nJust roll with it (roll)\\nJust roll with it\\nJust roll with it\\nEverybody just\\nJust roll with it\\nCome on now\\nJust roll with it\\nBackstreet's say\\nJust roll with it\\nCome on y'all\\nJust roll with it\\n\\n \\n\\nYou've got to roll\\nRoll with it (all the fellas roll)\\nRoll with it (all the ladies roll)\\nRoll with it (everybody roll)\\nYou've got to roll with it (just roll)\\nRoll with it\\nRoll with it (just roll with it)\\nYou've got to roll with it (you've got to)\\nJust roll with it\\nRoll with it (you've got to)\\nJust roll with it\\nRoll with it (you've got to roll)\\nJust roll with it\\nYou've got to roll with it (you've got to roll with it)\\nJust roll with it (everybody roll with it)\\nJust roll with it\\nRoll with it (you've got to roll with it)\\nJust roll with it (You've got to roll with it)\\nJust roll with it\\nYou've got to roll with it (you've got to roll, you've got to roll)\\nYou've got to roll with it\\nEverybody, anybody, everybody roll with it\\nEverybody, anybody everybody roll\\nYou've got to roll with it\\nEverybody, anybody, everybody roll with it\\nEverybody, anybody, everybody roll\\nYou've got to roll with it (just roll)\\nAin't nobody else but you  \\n\\nThere is nobody\\nWho can make me cry\\nNobody else can do it\\nNobody but you  \\nAin't nobody else but you\\nThere is nobody\\nWho can make me lie\\nNobody else can do it\\nNobody but you  \\nAin't nobody else but you\\nNobody, nobody but you\\nGimme one more chance to make it right\\nTime has come for us to reunite\\nCuz baby it's true\\nAin't nobody else but you\\nThere's no one like you\\n\\nThere is nobody\\nWho can make it right\\nNobody else can do it\\nNobody but you\\nYou know what to do\\nAin't nobody else but you\\nNobody, (nobody) nobody but you\\nYeah\\nSomebody tell me\\nCuz I can't eat or sleep\\nWhen you're not close to my body\\nYou're a bittersweet delight\\nCome and help me through the night\\n\\nAin't nobody else can make me cry\\nAin't nobody else can make me lie\\nNobody but you\\nAin't nobody else but you\\nNobody but you\\nNo one can make me lie\\nGimme one more chance to make it right\\nTime has come for us to reunite\\nCuz baby it's true\\nAin't nobody else but you\\nThere's no one like you\\n\\n\""
            ]
          },
          "metadata": {
            "tags": []
          },
          "execution_count": 148
        }
      ]
    },
    {
      "cell_type": "code",
      "metadata": {
        "id": "LGwLG88O8jcZ"
      },
      "source": [
        "lyrics=lyrics.translate(str.maketrans('', '', string.punctuation))"
      ],
      "execution_count": 149,
      "outputs": []
    },
    {
      "cell_type": "code",
      "metadata": {
        "id": "HqdCDefd8yWA",
        "outputId": "7c2d203a-4615-44b5-e48e-677cc0ad9166",
        "colab": {
          "base_uri": "https://localhost:8080/",
          "height": 191
        }
      },
      "source": [
        "lyrics"
      ],
      "execution_count": 150,
      "outputs": [
        {
          "output_type": "execute_result",
          "data": {
            "application/vnd.google.colaboratory.intrinsic+json": {
              "type": "string"
            },
            "text/plain": [
              "'Everybody grove to the music\\nEverybody jam\\n\\nOh hey\\n\\nWeve been waiting so long\\nJust cant hold it back no more\\nCreepin up and down now\\nIts time for me to let it go\\nIf you really wanna see\\nWhat we can do for you\\nSend the crazy wildin static\\nSing it\\n\\n \\nJam on cuz Backstreets got it\\nCome on now everybody\\nWeve got it goin on for years\\n \\n\\nWeve got it goin on for years  \\n\\nWell Im creepin up on your left\\nStraight up funky when I get with you\\nKeep it ruthless when I get wet\\nKeep the party packed in my corner\\nTough like granite to keep the crowd hype\\nGet up on this just to get right\\nWhat you want it what you gonna get\\nBackstreets got the special effects uh\\n\\nIf you really wanna see\\nWhat we can do for you oh\\nIll send the crazy wildin static\\nSing it\\n\\n \\n\\nWeve got it goin on for years  \\n\\n \\nWeve been waiting so long\\nJust cant hold it back no more\\njust cant hold it back no more\\nCreepin up and down now\\nIts time for me to let it go  \\n\\nJam on jam on\\n\\nEverybody groove to the music\\nEverybody jam\\n\\n \\n\\nWeve got it goin on\\n\\n\\n\\nId go anywhere for you\\nAnywhere you asked me to\\nId do anything for you\\nAnything you want me to\\n\\nId walk halfway around the world\\nFor just one kiss from you\\nFar beyond the call of love\\nThe sun the stars the moon\\nAs long as your loves there to lead me\\nI wont lose my way believe me\\nEven through the darkest night you know\\n\\n \\nId go anywhere for you\\nAnywhere you asked me to\\nId do anything for you\\nAnything you want me to\\nYour love as far as I can see\\nIs all Im ever gonna need\\nTheres one thing for sure\\nI know its true\\nBaby Id go anywhere for you\\n\\nI used to think that dreams were just\\nFor sentimental fools\\nAnd Id never find someone\\nWhod give their love so true\\nBut I knew the very minute\\nCouldnt live my life without you in it\\nAnd now I want the whole wide world\\nTo know\\n\\n \\n\\nHey baby hey baby hey baby oh  \\n\\n \\nYoure the one for me\\nYoure my ecstasy\\nYoure the one I need\\n\\nHey yeah\\n\\n \\nGet down\\nGet down\\nAnd move it all around\\n \\n\\nHey baby love I need a girl like you\\nBut tell me if you feel it too\\nIm in delusion every minute every hour\\nMy heart is crying out for you\\n\\n \\nI feel in heaven when I look in your eyes\\nI know that you are the one for me one for me\\nYou drive me crazy cuz\\nYoure one of a kind\\nI want your lovin\\nAnd I want it right now\\n\\n \\n\\n \\nOoh baby youre so fine\\nIm gonna make you mine\\nYour lips they taste so sweet\\nYoure the one for me\\nYoure my ecstasy\\nYoure the one I need\\n\\nRap Smooth T\\nBang bang bang\\nHere we come\\nHere we slam\\nIts the Fun Factory\\nwith the BSBs\\nAll the girls\\nGet on your knees\\nTryin to scream\\nOr touch me please\\nBackstreet Boys\\nAre you with it yeah\\nAJ hit it\\n\\nCome on girl and get down\\nSmack it up\\nFlip it\\nAnd move it all around\\nHere it is if you wanna get with this\\nPut you on the top of my list uh\\n\\n \\n\\n \\n\\n \\n\\n \\n\\nOoh whoa ooh whoa ooh whoa\\nWhoa ooh whoa ooh whoa\\nOoh whoa ooh whoa ooh whoa\\nWhoa ooh whoa ooh whoa ooh\\n \\n\\nYoure the one for me\\nYoure my ecstasy\\nYoure the one I need\\n\\n \\n \\nBaby I know youre hurting\\nRight now you feel like you could never\\nLove again\\nNow all I ask is for a chance\\nTo prove that I love you\\n\\nFrom the first day\\nThat I saw your smiling face\\nHoney I knew that we would\\nBe together forever\\nOoh when I asked you out\\nYou said no but I found out\\nDarling that youd been hurt\\nYou felt like youd never love again\\nI deserve a try honey just once\\nGive me a chance and Ill prove this all wrong\\nYou walked in you were so quick to judge\\nBut honey he s nothing like me\\n\\n \\nIll never break your heart\\nIll never make you cry\\nId rather die than live without you\\nIll give you all of me\\nHoney thats no lie\\n \\n\\nAs time goes by\\nYou will get to know me\\nA little more better\\nGirl thats the way love goes baby baby\\nAnd I I know youre afraid know youre afraid\\nTo let your feelings show feelings show\\nAnd I understand\\nGirl its time to let go girl its time to let go because\\nI deserve a try try honey\\nJust once once\\nGive me a chance chance and Ill prove this all wrong wrong you walked\\nYou walked in you were so quick to judge quick to judge\\nBut honey hes nothing like me\\nDarling why cant you see\\n\\n \\n\\n \\nNo way no how Ill never break your heart girl Ill never make you cry\\nI swear Oh I oh I I swear\\nNo way no how Ill never break your heart girl Ill never make you cry\\n\\n \\nBaby oh\\n\\nEven in my heart I see\\nYoure not bein true to me\\nDeep within my soul I feel\\nNothings like it used to be\\nSometimes I wish I could turn back time\\nImpossible as it may seem\\nBut I wish I could so bad baby\\nQuit playin games with my heart\\n\\nQuit playin games with my heart with my heart\\nBefore you tear us apart my heart\\nQuit playin games with my heart\\nI shouldve known from the start\\nYou know youve gotta stop from my heart\\nYoure tearin us apart my heart my heart\\nQuit playin games with my heart\\n\\nI live my life the way\\nTo keep you comin back to me\\nEverything I do is for you\\nSo what is it that you cant see\\nSometimes I wish I could turn back time\\nImpossible as it may seem\\nBut I wish I could so bad baby\\nYou better quit playin games with my heart\\n\\nQuit playin games with my heart with my heart\\nBefore you tear us apart my heart\\nQuit playin games with my heart\\nI shouldve known from the start\\nYou know youve gotta stop from my heart\\nYoure tearin us apart my heart my heart\\nQuit playin games with my heart\\n\\nQuit playin games\\nBaby baby the love that we had was so strong\\nDont leave me hangin here forever\\nOh baby baby this is not alright lets stop this tonight\\n\\nBaby oh\\nQuit playin games\\nNa na na na na na\\nNa na na na na baby\\nNa na na na na\\nSometimes I wish I could turn back time\\nImpossible as it may seem\\nBut I wish I could so bad baby\\nQuit playin games with my heart\\n\\nQuit playin games with my heart with my heart\\nBefore you tear us apart my heart\\nQuit playin games with my heart\\nI shouldve known from the start\\nYou know youve gotta stop from my heart\\nYoure tearin us apart my heart my heart\\nQuit playin games with my heart\\n\\nQuit playin games with my heart\\nNa na na na na na\\nNa na na na na baby\\nNa na na na na\\n \\nOh ooh oh ooh oh oh\\nOh ooh oh ooh oh\\nBoys will be boys hey\\nOh ooh oh ooh oh oh\\nOh ooh oh ooh oh\\nBoys will be boys\\n\\nYouve got something\\nSo incredible in my eyes\\nAnd my heart and my heart\\nIt starts pumpin pumpin\\nWhenever youre around\\nThe whole worlds upside down baby\\nBut I try to get closer\\nAnd you always push me away\\nYou tell me its much too soon\\nBut I just cant help it\\nI always gotta make a play\\n\\nOh ooh oh ooh oh oh\\nOh ooh oh ooh oh\\nBoys will be boys hey hey\\nOh ooh oh ooh oh oh\\nOh ooh oh ooh oh\\nBaby boys will be boys\\n\\nAll my senses\\nGo right into overdrive\\nOh my defenses\\nIm never gonna hope\\nI always gotta lose control\\nAnd I hear you say\\nThat you think that we should wait\\nAnd I cant hold on anymore\\nMy bodys callin for you\\nSo please dont hesitate\\n\\nOh ooh oh ooh oh oh\\nOh ooh oh ooh oh\\nBoys will be boys you oughta know by now baby\\nOh ooh oh ooh oh oh\\nOh ooh oh ooh oh oh baby\\nBoys will be boys\\nOh ooh oh ooh oh oh oh oh\\nOh ooh oh ooh oh\\nBoys will be boys you oughta know by now baby\\nOh ooh oh ooh oh oh\\nOh ooh oh ooh oh\\nBoys will be boys I gotta do what I gotta do baby\\nGo go go\\n\\nAnd I hear you say\\nThat you think that we should wait\\nAnd I cant hold on anymore\\nMy bodys callin for you\\nSo please dont hesitate\\nMy bodys callin for you\\nSo please dont hesitate\\n\\nOh ooh oh ooh oh oh\\nOh ooh oh ooh oh\\nBoys will be be boys boys will be boys\\nOh ooh oh ooh oh oh\\nOh ooh oh ooh oh\\nBoys will be boys you oughta know by now baby\\nOh ooh oh ooh oh oh oh oh yeah\\nOh ooh oh ooh oh\\nBoys will be boys you know I gotta do what I gotta do baby\\nOh ooh oh ooh oh oh\\nOh ooh oh ooh oh\\nBaby boys will be boys boys will be boys\\nThis is for the lovers\\nStrictly for the lovers yeah\\nYou got someone you wanna get close to\\nThen get close to this\\nOoh ooh ooh ooh\\nJust to be close to you\\nYo drop the verse\\n\\nLike a flower to a tree\\nThats how close I wanna be\\nTo your heart baby to your heart heart\\nLike the stars to the night\\nAnd daytime is to light\\nWell never part well never part\\nI want you to be I want you to be\\nThe only thing that I see ooh ooh\\nCuz I believe its our destiny\\n\\n \\nJust to be close\\nJust to be close\\nIts the only thing\\nThat I wanna do ooh\\nJust to be close\\nJust to be close\\nJust to be close to you\\nJust to be close\\n\\nSo lonely is the night\\nWihout you to hold me tight\\nI wanna hold you closer\\nI need you\\nBaby hold me closer closer\\nMy life would mean nothing\\nWithout the joy you bring to me\\nYou know you know you know\\nThere would never be\\nNo one else for me\\nYou are like a dream that became reality\\n\\n \\n\\nIm gonna give you all my love\\nIm gonna give it to you\\nIm gonna give it to you all my love all my love\\nIm gonna give it to you\\nIm gonna give it to you\\nGive you everything you need all my love\\nIm gonna give it to you\\nIm gonna give you all you want\\nTo be close to you to be close to you\\nClose to you close to you\\n\\n \\n\\nI dont want to be alone\\nIll never never never ever let you go\\nJust want to be close to you\\nI dont want to be alone\\nGirl Ill never never never ever let you go\\nJust to be close\\nTherell never be never be\\nNo one else for me\\nYou are like a dream that became reality\\n\\n \\n\\nOoh ooh ooh ooh\\nI just wanna be close\\nTo you\\nI wanna be with you\\nIts crazy but its true\\nAnd everything I do\\nI wanna be with you\\n\\nId like to know your policy\\nWhen it comes to me\\nLike to know whats in your mind\\nIts not easy to see\\nI know now what I feel\\nAnd what to do\\nI wanna be with you\\nAnd Ill be waitin\\nUntil you face the truth\\nWhen the light is fadin\\nYou know what I wanna do\\n\\n \\nI wanna be with you\\nIts crazy but its true you know its true\\nAnd everything I do is for you baby\\nI wanna be with you oh with you\\n\\n \\nEverybody say hey\\nYeah see you once again\\nYeah everybody swing Yeah everybody Yeah everybody swing\\n\\nWish youd come and set me free\\nSo that I can see\\nAll the things Ive left behind\\nWhats missin in me\\nIm lookin for a sign\\nIn the things you do\\nI wanna be with you\\nAnd Ill be waitin\\nUntil you face the truth\\nWhen the light is fadin\\nYou know what I wanna do\\n\\n \\n\\n \\n\\nI wanna be with you\\nIts crazy but its true\\nAnd everything I do\\nI wanna be with you\\n \\n\\nI wanna be with you I wanna be with you\\nIts crazy but its true Its crazy but its true\\nAnd everything I do And everything I do\\nI wanna be with you I wanna be with you\\nHey yeah\\nAnd everything I do\\nI wanna be with you\\nEverytime I close my eyes\\nEverytime I close my eyes\\n\\nListen girl I dont know where to start\\nBut every word I say comes straight from the heart\\nIve been so wrong\\nI never meant to hurt you\\nOh girl Im sorry\\nFor what I put you through\\nGirl Id do anything\\nFor one more chance one more chance\\nCuz I want you back again want you back\\n\\n \\nCuz everytime I close my eyes\\nI see your face and I wonder\\nWhen you close your eyes\\nDo you think about me\\nNow I realize\\nI want you girl and no other\\nEverytime I close my eyes\\nYoure all that I see\\n\\nYou and I shared a life together\\nEach other was all wed ever need all wed ever need\\nI thought you would stay with me forever\\nBut I took for granted\\nThe love you gave to me\\nI keep on tryin keep on tryin\\nTil the end til the end\\nBaby I need you back with me again I need you back\\n\\n \\n\\nAnd girl Im goin out of my mind\\nI miss you so much\\nI dont know what to do what to do\\nPlease say its just a matter of time\\nUntil I feel your touch\\nUntil you let me come back to you Im in love with you\\n\\nI think about you girl everynight\\nIm in love and it feels so right\\nI never meant to hurt you or cause you pain\\nI was just caught up in that lying game\\nBut now those days are over\\nIve changed my ways\\nAnd now Im countin the minutes\\nIm countin the days\\nUntil you let me come back\\nUntil you let me start\\nTo find a new way to get back into your heart\\n\\nGirl Id do anything for one more chance one more chance\\nCuz I want you\\nI want you back again I want you back\\n\\n \\n \\nBaby can I talk to you\\nI know somethings wrong\\nThings just aint the same\\nBut deep down inside\\nI know you still care\\nSo tell me what to do\\nTo get things back\\nThe way they used to be\\n\\nIf your words had meaning\\nIf you really cared about me\\nTell me why cant I find love in your heart\\nIf you were my lover\\nA constant friend to me\\nTell me why\\nWould you turn away from my love\\n\\n \\nSo darlin\\nTell me what to do to make things right\\nDarlin\\nTell me what to do to make things right\\nDarlin\\nTell me what to do to make things right for love\\nTell me what to do to make things right for love for love\\n\\nIf your words have reason\\nWhen they wont turn away from me\\nTheyre trying hard to hide all truth they might say\\nIf you listen to me girl\\nIf you know how Im feeling inside\\nThen maybe you wouldnt shut me out your life baby\\n\\n \\n\\n \\nCant you see\\nAll Im asking for\\nIs a chance to let me love you\\nCant you see\\nGirl you know with me\\nIs where you should be\\nAnd if by chance we should find\\nThat it can be for you and I\\nThen girl Ill try\\nIll try\\nOh baby\\n\\n \\n\\n \\nGirl you should know how I feel by now\\nTheres so many ways to love\\nSo just open your heart\\nAnd Ill find the way\\n\\n \\n\\n \\nBut all I wanna know is where the party at  \\nLets have a party  \\nBut all I wanna know is where the party at\\nEverybody\\nLets have a party\\nBut all I wanna know is where the party at\\n\\nIve been watching you\\nYouve been watching me\\nLets stop playin games girl\\nCome and dance with me\\nDont you hear the music\\nDont you feel the groove yeah\\nCome on girl get on the floor\\nI wanna dance with you\\nBut all I wanna know is where the party at\\n\\nLets have a party\\nEverybody throw your hands up in the air\\nLets have a party\\nI like the way you swing yeah\\nBut all I wanna know is where the party at\\nEverybody\\nGirl you know mmm youre lookin good\\nLets have a party\\nGirl you gotta work that body\\nBut all I wanna know is where the party at\\n\\nGirl I must be dreamin\\nTo have a night like this\\nHoldin hands bein close\\nSharin our first kiss\\nYou really blow my mind\\nI cant believe its true\\nIve been waiting all night long\\nTo get a girl like you\\nBut all I wanna know is where the party at\\n\\nLets have a party shake it baby shake it\\nWere movin to the groove yeah\\nLets have a party\\nAll the fellas and the honeys get on the floor\\nBut all I wanna know is where the party at\\nEverybody\\nCuz were gonna have a party\\nLets have a party\\nSo everybody can enjoy yourself with me\\nBut all I wanna know is where the party at\\n\\n \\nWelcome everybody\\nTo the party\\nDont forget the honeys\\nThe mad fun has just begun at the party yo\\nGive a call or beep\\nAnd make sure your girl aint creepin\\nIts time to get it on\\nThe dance floor\\nYou want more than what you came here for\\nI see you lookin at me\\nAcross the dance floor\\nI wish for that sweet little kiss\\nDont be no Cinderella\\nAnd go poof after midnight\\nUh yeah\\n\\nBut all I wanna know is where the party at  \\n\\nLets have a party shake it baby shake it\\nI like mmm everybody\\nLets have a party\\nThrow you hands up everybody everybody\\nEverybody\\nGirl you know mmm youre lookin good\\nLets have a party\\nI like the way you swing yeah\\nBut all I wanna know is where the party at\\nLets have a party mmm shake it baby\\nWere movin to the groove yeah\\nLets have a party\\nEverybody\\nBut all I wanna know is where the party at\\nThrow your hands up\\nEverybody Shake it baby shake it\\nCuz were gonna have a party\\nSo everybody can enjoy yourself with me\\nRoll with it\\nRoll with it oh yeah\\nRoll with it\\nYouve got to roll with it\\n\\nIf you ever feel\\nLike no one cares\\nWhen you try your best\\nBut you get nowhere\\nDont give in\\nCuz good times\\nWill come again hey\\nWhen they criticize\\nEvery move you make\\nAnd youve had as much\\nAs youre gonna take\\nDont you worry\\nSoon enough things will change ohh\\n\\n \\nAnd when it seems as though\\nNobody understands young man understand young man\\nOh dont you let your head hang down\\nYoung woman just stick to your plan\\n\\nYouve got to roll with it thats whatcha gotta do\\nRoll with it yeah yeah\\nRoll with it oh yeah\\nYouve got to roll wih it thats whatcha gotta do\\nRoll with it just roll with it\\nRoll with it roll with it\\nYouve got to roll youve got to roll\\n\\nJust roll with it\\nEverything will be fine\\nJust roll with it\\nIts gonna be alright\\nJust roll with it\\nDont put yourself down\\nJust roll with it\\n\\nIf you just cant find\\nSomeone to trust\\nAnd when you give your heart\\nBut you dont get much\\nDont you worry\\nYour time is gonna come oh yeah\\nThe whole worlds a school\\nSo much to learn\\nSo learn it well young man\\nThe whole worlds a stage\\nSome act the fool\\nYoung woman understand\\n\\nYouve got to roll\\nRoll with it youve got to roll\\nRoll with it thats whatcha gotta do\\nRoll with it roll with it\\nYouve got to roll with it thats whatcha gotta do\\nRoll with it ooh yeah\\nRoll with it roll with it\\nYouve got to roll with it youve got to roll with it\\n\\nJust roll with it roll\\nJust roll with it\\nJust roll with it\\nEverybody just\\nJust roll with it\\nCome on now\\nJust roll with it\\nBackstreets say\\nJust roll with it\\nCome on yall\\nJust roll with it\\n\\n \\n\\nYouve got to roll\\nRoll with it all the fellas roll\\nRoll with it all the ladies roll\\nRoll with it everybody roll\\nYouve got to roll with it just roll\\nRoll with it\\nRoll with it just roll with it\\nYouve got to roll with it youve got to\\nJust roll with it\\nRoll with it youve got to\\nJust roll with it\\nRoll with it youve got to roll\\nJust roll with it\\nYouve got to roll with it youve got to roll with it\\nJust roll with it everybody roll with it\\nJust roll with it\\nRoll with it youve got to roll with it\\nJust roll with it Youve got to roll with it\\nJust roll with it\\nYouve got to roll with it youve got to roll youve got to roll\\nYouve got to roll with it\\nEverybody anybody everybody roll with it\\nEverybody anybody everybody roll\\nYouve got to roll with it\\nEverybody anybody everybody roll with it\\nEverybody anybody everybody roll\\nYouve got to roll with it just roll\\nAint nobody else but you  \\n\\nThere is nobody\\nWho can make me cry\\nNobody else can do it\\nNobody but you  \\nAint nobody else but you\\nThere is nobody\\nWho can make me lie\\nNobody else can do it\\nNobody but you  \\nAint nobody else but you\\nNobody nobody but you\\nGimme one more chance to make it right\\nTime has come for us to reunite\\nCuz baby its true\\nAint nobody else but you\\nTheres no one like you\\n\\nThere is nobody\\nWho can make it right\\nNobody else can do it\\nNobody but you\\nYou know what to do\\nAint nobody else but you\\nNobody nobody nobody but you\\nYeah\\nSomebody tell me\\nCuz I cant eat or sleep\\nWhen youre not close to my body\\nYoure a bittersweet delight\\nCome and help me through the night\\n\\nAint nobody else can make me cry\\nAint nobody else can make me lie\\nNobody but you\\nAint nobody else but you\\nNobody but you\\nNo one can make me lie\\nGimme one more chance to make it right\\nTime has come for us to reunite\\nCuz baby its true\\nAint nobody else but you\\nTheres no one like you\\n\\n'"
            ]
          },
          "metadata": {
            "tags": []
          },
          "execution_count": 150
        }
      ]
    },
    {
      "cell_type": "code",
      "metadata": {
        "id": "RwEcCvy08zXZ"
      },
      "source": [
        "lyrics = lyrics.lower()"
      ],
      "execution_count": 151,
      "outputs": []
    },
    {
      "cell_type": "code",
      "metadata": {
        "id": "QjRuRnUc86g4",
        "outputId": "002b50d1-7e1e-4e84-ee3f-ecfdae603e4b",
        "colab": {
          "base_uri": "https://localhost:8080/",
          "height": 191
        }
      },
      "source": [
        "lyrics"
      ],
      "execution_count": 152,
      "outputs": [
        {
          "output_type": "execute_result",
          "data": {
            "application/vnd.google.colaboratory.intrinsic+json": {
              "type": "string"
            },
            "text/plain": [
              "'everybody grove to the music\\neverybody jam\\n\\noh hey\\n\\nweve been waiting so long\\njust cant hold it back no more\\ncreepin up and down now\\nits time for me to let it go\\nif you really wanna see\\nwhat we can do for you\\nsend the crazy wildin static\\nsing it\\n\\n \\njam on cuz backstreets got it\\ncome on now everybody\\nweve got it goin on for years\\n \\n\\nweve got it goin on for years  \\n\\nwell im creepin up on your left\\nstraight up funky when i get with you\\nkeep it ruthless when i get wet\\nkeep the party packed in my corner\\ntough like granite to keep the crowd hype\\nget up on this just to get right\\nwhat you want it what you gonna get\\nbackstreets got the special effects uh\\n\\nif you really wanna see\\nwhat we can do for you oh\\nill send the crazy wildin static\\nsing it\\n\\n \\n\\nweve got it goin on for years  \\n\\n \\nweve been waiting so long\\njust cant hold it back no more\\njust cant hold it back no more\\ncreepin up and down now\\nits time for me to let it go  \\n\\njam on jam on\\n\\neverybody groove to the music\\neverybody jam\\n\\n \\n\\nweve got it goin on\\n\\n\\n\\nid go anywhere for you\\nanywhere you asked me to\\nid do anything for you\\nanything you want me to\\n\\nid walk halfway around the world\\nfor just one kiss from you\\nfar beyond the call of love\\nthe sun the stars the moon\\nas long as your loves there to lead me\\ni wont lose my way believe me\\neven through the darkest night you know\\n\\n \\nid go anywhere for you\\nanywhere you asked me to\\nid do anything for you\\nanything you want me to\\nyour love as far as i can see\\nis all im ever gonna need\\ntheres one thing for sure\\ni know its true\\nbaby id go anywhere for you\\n\\ni used to think that dreams were just\\nfor sentimental fools\\nand id never find someone\\nwhod give their love so true\\nbut i knew the very minute\\ncouldnt live my life without you in it\\nand now i want the whole wide world\\nto know\\n\\n \\n\\nhey baby hey baby hey baby oh  \\n\\n \\nyoure the one for me\\nyoure my ecstasy\\nyoure the one i need\\n\\nhey yeah\\n\\n \\nget down\\nget down\\nand move it all around\\n \\n\\nhey baby love i need a girl like you\\nbut tell me if you feel it too\\nim in delusion every minute every hour\\nmy heart is crying out for you\\n\\n \\ni feel in heaven when i look in your eyes\\ni know that you are the one for me one for me\\nyou drive me crazy cuz\\nyoure one of a kind\\ni want your lovin\\nand i want it right now\\n\\n \\n\\n \\nooh baby youre so fine\\nim gonna make you mine\\nyour lips they taste so sweet\\nyoure the one for me\\nyoure my ecstasy\\nyoure the one i need\\n\\nrap smooth t\\nbang bang bang\\nhere we come\\nhere we slam\\nits the fun factory\\nwith the bsbs\\nall the girls\\nget on your knees\\ntryin to scream\\nor touch me please\\nbackstreet boys\\nare you with it yeah\\naj hit it\\n\\ncome on girl and get down\\nsmack it up\\nflip it\\nand move it all around\\nhere it is if you wanna get with this\\nput you on the top of my list uh\\n\\n \\n\\n \\n\\n \\n\\n \\n\\nooh whoa ooh whoa ooh whoa\\nwhoa ooh whoa ooh whoa\\nooh whoa ooh whoa ooh whoa\\nwhoa ooh whoa ooh whoa ooh\\n \\n\\nyoure the one for me\\nyoure my ecstasy\\nyoure the one i need\\n\\n \\n \\nbaby i know youre hurting\\nright now you feel like you could never\\nlove again\\nnow all i ask is for a chance\\nto prove that i love you\\n\\nfrom the first day\\nthat i saw your smiling face\\nhoney i knew that we would\\nbe together forever\\nooh when i asked you out\\nyou said no but i found out\\ndarling that youd been hurt\\nyou felt like youd never love again\\ni deserve a try honey just once\\ngive me a chance and ill prove this all wrong\\nyou walked in you were so quick to judge\\nbut honey he s nothing like me\\n\\n \\nill never break your heart\\nill never make you cry\\nid rather die than live without you\\nill give you all of me\\nhoney thats no lie\\n \\n\\nas time goes by\\nyou will get to know me\\na little more better\\ngirl thats the way love goes baby baby\\nand i i know youre afraid know youre afraid\\nto let your feelings show feelings show\\nand i understand\\ngirl its time to let go girl its time to let go because\\ni deserve a try try honey\\njust once once\\ngive me a chance chance and ill prove this all wrong wrong you walked\\nyou walked in you were so quick to judge quick to judge\\nbut honey hes nothing like me\\ndarling why cant you see\\n\\n \\n\\n \\nno way no how ill never break your heart girl ill never make you cry\\ni swear oh i oh i i swear\\nno way no how ill never break your heart girl ill never make you cry\\n\\n \\nbaby oh\\n\\neven in my heart i see\\nyoure not bein true to me\\ndeep within my soul i feel\\nnothings like it used to be\\nsometimes i wish i could turn back time\\nimpossible as it may seem\\nbut i wish i could so bad baby\\nquit playin games with my heart\\n\\nquit playin games with my heart with my heart\\nbefore you tear us apart my heart\\nquit playin games with my heart\\ni shouldve known from the start\\nyou know youve gotta stop from my heart\\nyoure tearin us apart my heart my heart\\nquit playin games with my heart\\n\\ni live my life the way\\nto keep you comin back to me\\neverything i do is for you\\nso what is it that you cant see\\nsometimes i wish i could turn back time\\nimpossible as it may seem\\nbut i wish i could so bad baby\\nyou better quit playin games with my heart\\n\\nquit playin games with my heart with my heart\\nbefore you tear us apart my heart\\nquit playin games with my heart\\ni shouldve known from the start\\nyou know youve gotta stop from my heart\\nyoure tearin us apart my heart my heart\\nquit playin games with my heart\\n\\nquit playin games\\nbaby baby the love that we had was so strong\\ndont leave me hangin here forever\\noh baby baby this is not alright lets stop this tonight\\n\\nbaby oh\\nquit playin games\\nna na na na na na\\nna na na na na baby\\nna na na na na\\nsometimes i wish i could turn back time\\nimpossible as it may seem\\nbut i wish i could so bad baby\\nquit playin games with my heart\\n\\nquit playin games with my heart with my heart\\nbefore you tear us apart my heart\\nquit playin games with my heart\\ni shouldve known from the start\\nyou know youve gotta stop from my heart\\nyoure tearin us apart my heart my heart\\nquit playin games with my heart\\n\\nquit playin games with my heart\\nna na na na na na\\nna na na na na baby\\nna na na na na\\n \\noh ooh oh ooh oh oh\\noh ooh oh ooh oh\\nboys will be boys hey\\noh ooh oh ooh oh oh\\noh ooh oh ooh oh\\nboys will be boys\\n\\nyouve got something\\nso incredible in my eyes\\nand my heart and my heart\\nit starts pumpin pumpin\\nwhenever youre around\\nthe whole worlds upside down baby\\nbut i try to get closer\\nand you always push me away\\nyou tell me its much too soon\\nbut i just cant help it\\ni always gotta make a play\\n\\noh ooh oh ooh oh oh\\noh ooh oh ooh oh\\nboys will be boys hey hey\\noh ooh oh ooh oh oh\\noh ooh oh ooh oh\\nbaby boys will be boys\\n\\nall my senses\\ngo right into overdrive\\noh my defenses\\nim never gonna hope\\ni always gotta lose control\\nand i hear you say\\nthat you think that we should wait\\nand i cant hold on anymore\\nmy bodys callin for you\\nso please dont hesitate\\n\\noh ooh oh ooh oh oh\\noh ooh oh ooh oh\\nboys will be boys you oughta know by now baby\\noh ooh oh ooh oh oh\\noh ooh oh ooh oh oh baby\\nboys will be boys\\noh ooh oh ooh oh oh oh oh\\noh ooh oh ooh oh\\nboys will be boys you oughta know by now baby\\noh ooh oh ooh oh oh\\noh ooh oh ooh oh\\nboys will be boys i gotta do what i gotta do baby\\ngo go go\\n\\nand i hear you say\\nthat you think that we should wait\\nand i cant hold on anymore\\nmy bodys callin for you\\nso please dont hesitate\\nmy bodys callin for you\\nso please dont hesitate\\n\\noh ooh oh ooh oh oh\\noh ooh oh ooh oh\\nboys will be be boys boys will be boys\\noh ooh oh ooh oh oh\\noh ooh oh ooh oh\\nboys will be boys you oughta know by now baby\\noh ooh oh ooh oh oh oh oh yeah\\noh ooh oh ooh oh\\nboys will be boys you know i gotta do what i gotta do baby\\noh ooh oh ooh oh oh\\noh ooh oh ooh oh\\nbaby boys will be boys boys will be boys\\nthis is for the lovers\\nstrictly for the lovers yeah\\nyou got someone you wanna get close to\\nthen get close to this\\nooh ooh ooh ooh\\njust to be close to you\\nyo drop the verse\\n\\nlike a flower to a tree\\nthats how close i wanna be\\nto your heart baby to your heart heart\\nlike the stars to the night\\nand daytime is to light\\nwell never part well never part\\ni want you to be i want you to be\\nthe only thing that i see ooh ooh\\ncuz i believe its our destiny\\n\\n \\njust to be close\\njust to be close\\nits the only thing\\nthat i wanna do ooh\\njust to be close\\njust to be close\\njust to be close to you\\njust to be close\\n\\nso lonely is the night\\nwihout you to hold me tight\\ni wanna hold you closer\\ni need you\\nbaby hold me closer closer\\nmy life would mean nothing\\nwithout the joy you bring to me\\nyou know you know you know\\nthere would never be\\nno one else for me\\nyou are like a dream that became reality\\n\\n \\n\\nim gonna give you all my love\\nim gonna give it to you\\nim gonna give it to you all my love all my love\\nim gonna give it to you\\nim gonna give it to you\\ngive you everything you need all my love\\nim gonna give it to you\\nim gonna give you all you want\\nto be close to you to be close to you\\nclose to you close to you\\n\\n \\n\\ni dont want to be alone\\nill never never never ever let you go\\njust want to be close to you\\ni dont want to be alone\\ngirl ill never never never ever let you go\\njust to be close\\ntherell never be never be\\nno one else for me\\nyou are like a dream that became reality\\n\\n \\n\\nooh ooh ooh ooh\\ni just wanna be close\\nto you\\ni wanna be with you\\nits crazy but its true\\nand everything i do\\ni wanna be with you\\n\\nid like to know your policy\\nwhen it comes to me\\nlike to know whats in your mind\\nits not easy to see\\ni know now what i feel\\nand what to do\\ni wanna be with you\\nand ill be waitin\\nuntil you face the truth\\nwhen the light is fadin\\nyou know what i wanna do\\n\\n \\ni wanna be with you\\nits crazy but its true you know its true\\nand everything i do is for you baby\\ni wanna be with you oh with you\\n\\n \\neverybody say hey\\nyeah see you once again\\nyeah everybody swing yeah everybody yeah everybody swing\\n\\nwish youd come and set me free\\nso that i can see\\nall the things ive left behind\\nwhats missin in me\\nim lookin for a sign\\nin the things you do\\ni wanna be with you\\nand ill be waitin\\nuntil you face the truth\\nwhen the light is fadin\\nyou know what i wanna do\\n\\n \\n\\n \\n\\ni wanna be with you\\nits crazy but its true\\nand everything i do\\ni wanna be with you\\n \\n\\ni wanna be with you i wanna be with you\\nits crazy but its true its crazy but its true\\nand everything i do and everything i do\\ni wanna be with you i wanna be with you\\nhey yeah\\nand everything i do\\ni wanna be with you\\neverytime i close my eyes\\neverytime i close my eyes\\n\\nlisten girl i dont know where to start\\nbut every word i say comes straight from the heart\\nive been so wrong\\ni never meant to hurt you\\noh girl im sorry\\nfor what i put you through\\ngirl id do anything\\nfor one more chance one more chance\\ncuz i want you back again want you back\\n\\n \\ncuz everytime i close my eyes\\ni see your face and i wonder\\nwhen you close your eyes\\ndo you think about me\\nnow i realize\\ni want you girl and no other\\neverytime i close my eyes\\nyoure all that i see\\n\\nyou and i shared a life together\\neach other was all wed ever need all wed ever need\\ni thought you would stay with me forever\\nbut i took for granted\\nthe love you gave to me\\ni keep on tryin keep on tryin\\ntil the end til the end\\nbaby i need you back with me again i need you back\\n\\n \\n\\nand girl im goin out of my mind\\ni miss you so much\\ni dont know what to do what to do\\nplease say its just a matter of time\\nuntil i feel your touch\\nuntil you let me come back to you im in love with you\\n\\ni think about you girl everynight\\nim in love and it feels so right\\ni never meant to hurt you or cause you pain\\ni was just caught up in that lying game\\nbut now those days are over\\nive changed my ways\\nand now im countin the minutes\\nim countin the days\\nuntil you let me come back\\nuntil you let me start\\nto find a new way to get back into your heart\\n\\ngirl id do anything for one more chance one more chance\\ncuz i want you\\ni want you back again i want you back\\n\\n \\n \\nbaby can i talk to you\\ni know somethings wrong\\nthings just aint the same\\nbut deep down inside\\ni know you still care\\nso tell me what to do\\nto get things back\\nthe way they used to be\\n\\nif your words had meaning\\nif you really cared about me\\ntell me why cant i find love in your heart\\nif you were my lover\\na constant friend to me\\ntell me why\\nwould you turn away from my love\\n\\n \\nso darlin\\ntell me what to do to make things right\\ndarlin\\ntell me what to do to make things right\\ndarlin\\ntell me what to do to make things right for love\\ntell me what to do to make things right for love for love\\n\\nif your words have reason\\nwhen they wont turn away from me\\ntheyre trying hard to hide all truth they might say\\nif you listen to me girl\\nif you know how im feeling inside\\nthen maybe you wouldnt shut me out your life baby\\n\\n \\n\\n \\ncant you see\\nall im asking for\\nis a chance to let me love you\\ncant you see\\ngirl you know with me\\nis where you should be\\nand if by chance we should find\\nthat it can be for you and i\\nthen girl ill try\\nill try\\noh baby\\n\\n \\n\\n \\ngirl you should know how i feel by now\\ntheres so many ways to love\\nso just open your heart\\nand ill find the way\\n\\n \\n\\n \\nbut all i wanna know is where the party at  \\nlets have a party  \\nbut all i wanna know is where the party at\\neverybody\\nlets have a party\\nbut all i wanna know is where the party at\\n\\nive been watching you\\nyouve been watching me\\nlets stop playin games girl\\ncome and dance with me\\ndont you hear the music\\ndont you feel the groove yeah\\ncome on girl get on the floor\\ni wanna dance with you\\nbut all i wanna know is where the party at\\n\\nlets have a party\\neverybody throw your hands up in the air\\nlets have a party\\ni like the way you swing yeah\\nbut all i wanna know is where the party at\\neverybody\\ngirl you know mmm youre lookin good\\nlets have a party\\ngirl you gotta work that body\\nbut all i wanna know is where the party at\\n\\ngirl i must be dreamin\\nto have a night like this\\nholdin hands bein close\\nsharin our first kiss\\nyou really blow my mind\\ni cant believe its true\\nive been waiting all night long\\nto get a girl like you\\nbut all i wanna know is where the party at\\n\\nlets have a party shake it baby shake it\\nwere movin to the groove yeah\\nlets have a party\\nall the fellas and the honeys get on the floor\\nbut all i wanna know is where the party at\\neverybody\\ncuz were gonna have a party\\nlets have a party\\nso everybody can enjoy yourself with me\\nbut all i wanna know is where the party at\\n\\n \\nwelcome everybody\\nto the party\\ndont forget the honeys\\nthe mad fun has just begun at the party yo\\ngive a call or beep\\nand make sure your girl aint creepin\\nits time to get it on\\nthe dance floor\\nyou want more than what you came here for\\ni see you lookin at me\\nacross the dance floor\\ni wish for that sweet little kiss\\ndont be no cinderella\\nand go poof after midnight\\nuh yeah\\n\\nbut all i wanna know is where the party at  \\n\\nlets have a party shake it baby shake it\\ni like mmm everybody\\nlets have a party\\nthrow you hands up everybody everybody\\neverybody\\ngirl you know mmm youre lookin good\\nlets have a party\\ni like the way you swing yeah\\nbut all i wanna know is where the party at\\nlets have a party mmm shake it baby\\nwere movin to the groove yeah\\nlets have a party\\neverybody\\nbut all i wanna know is where the party at\\nthrow your hands up\\neverybody shake it baby shake it\\ncuz were gonna have a party\\nso everybody can enjoy yourself with me\\nroll with it\\nroll with it oh yeah\\nroll with it\\nyouve got to roll with it\\n\\nif you ever feel\\nlike no one cares\\nwhen you try your best\\nbut you get nowhere\\ndont give in\\ncuz good times\\nwill come again hey\\nwhen they criticize\\nevery move you make\\nand youve had as much\\nas youre gonna take\\ndont you worry\\nsoon enough things will change ohh\\n\\n \\nand when it seems as though\\nnobody understands young man understand young man\\noh dont you let your head hang down\\nyoung woman just stick to your plan\\n\\nyouve got to roll with it thats whatcha gotta do\\nroll with it yeah yeah\\nroll with it oh yeah\\nyouve got to roll wih it thats whatcha gotta do\\nroll with it just roll with it\\nroll with it roll with it\\nyouve got to roll youve got to roll\\n\\njust roll with it\\neverything will be fine\\njust roll with it\\nits gonna be alright\\njust roll with it\\ndont put yourself down\\njust roll with it\\n\\nif you just cant find\\nsomeone to trust\\nand when you give your heart\\nbut you dont get much\\ndont you worry\\nyour time is gonna come oh yeah\\nthe whole worlds a school\\nso much to learn\\nso learn it well young man\\nthe whole worlds a stage\\nsome act the fool\\nyoung woman understand\\n\\nyouve got to roll\\nroll with it youve got to roll\\nroll with it thats whatcha gotta do\\nroll with it roll with it\\nyouve got to roll with it thats whatcha gotta do\\nroll with it ooh yeah\\nroll with it roll with it\\nyouve got to roll with it youve got to roll with it\\n\\njust roll with it roll\\njust roll with it\\njust roll with it\\neverybody just\\njust roll with it\\ncome on now\\njust roll with it\\nbackstreets say\\njust roll with it\\ncome on yall\\njust roll with it\\n\\n \\n\\nyouve got to roll\\nroll with it all the fellas roll\\nroll with it all the ladies roll\\nroll with it everybody roll\\nyouve got to roll with it just roll\\nroll with it\\nroll with it just roll with it\\nyouve got to roll with it youve got to\\njust roll with it\\nroll with it youve got to\\njust roll with it\\nroll with it youve got to roll\\njust roll with it\\nyouve got to roll with it youve got to roll with it\\njust roll with it everybody roll with it\\njust roll with it\\nroll with it youve got to roll with it\\njust roll with it youve got to roll with it\\njust roll with it\\nyouve got to roll with it youve got to roll youve got to roll\\nyouve got to roll with it\\neverybody anybody everybody roll with it\\neverybody anybody everybody roll\\nyouve got to roll with it\\neverybody anybody everybody roll with it\\neverybody anybody everybody roll\\nyouve got to roll with it just roll\\naint nobody else but you  \\n\\nthere is nobody\\nwho can make me cry\\nnobody else can do it\\nnobody but you  \\naint nobody else but you\\nthere is nobody\\nwho can make me lie\\nnobody else can do it\\nnobody but you  \\naint nobody else but you\\nnobody nobody but you\\ngimme one more chance to make it right\\ntime has come for us to reunite\\ncuz baby its true\\naint nobody else but you\\ntheres no one like you\\n\\nthere is nobody\\nwho can make it right\\nnobody else can do it\\nnobody but you\\nyou know what to do\\naint nobody else but you\\nnobody nobody nobody but you\\nyeah\\nsomebody tell me\\ncuz i cant eat or sleep\\nwhen youre not close to my body\\nyoure a bittersweet delight\\ncome and help me through the night\\n\\naint nobody else can make me cry\\naint nobody else can make me lie\\nnobody but you\\naint nobody else but you\\nnobody but you\\nno one can make me lie\\ngimme one more chance to make it right\\ntime has come for us to reunite\\ncuz baby its true\\naint nobody else but you\\ntheres no one like you\\n\\n'"
            ]
          },
          "metadata": {
            "tags": []
          },
          "execution_count": 152
        }
      ]
    },
    {
      "cell_type": "code",
      "metadata": {
        "id": "9Rj8JMGg9ALf"
      },
      "source": [
        "corpus = lyrics.split('\\n')"
      ],
      "execution_count": 153,
      "outputs": []
    },
    {
      "cell_type": "code",
      "metadata": {
        "id": "ySlAQr009OKX"
      },
      "source": [
        "#corpus"
      ],
      "execution_count": 154,
      "outputs": []
    },
    {
      "cell_type": "code",
      "metadata": {
        "id": "LkUyRBpK9PLQ"
      },
      "source": [
        "corpus=[corpus[i].rstrip() for i in range(len(corpus))]"
      ],
      "execution_count": 155,
      "outputs": []
    },
    {
      "cell_type": "code",
      "metadata": {
        "id": "hwFla-2c9zJf"
      },
      "source": [
        "#corpus"
      ],
      "execution_count": 156,
      "outputs": []
    },
    {
      "cell_type": "code",
      "metadata": {
        "id": "7bXMZXYs-PnI"
      },
      "source": [
        "corpus = [i for i in corpus if i != '']"
      ],
      "execution_count": 157,
      "outputs": []
    },
    {
      "cell_type": "code",
      "metadata": {
        "id": "kVXe3Xs8-dtF"
      },
      "source": [
        "#corpus"
      ],
      "execution_count": 158,
      "outputs": []
    },
    {
      "cell_type": "markdown",
      "metadata": {
        "id": "A9cQasrRzEJW"
      },
      "source": [
        "# Sequence data preparation"
      ]
    },
    {
      "cell_type": "markdown",
      "metadata": {
        "id": "9Q3X5CA8yiea"
      },
      "source": [
        "Tokenizer function"
      ]
    },
    {
      "cell_type": "code",
      "metadata": {
        "id": "axfS0Jnp-fUd"
      },
      "source": [
        "def tokenize_corpus(corpus, num_words=-1):\n",
        "  # Fit a Tokenizer on the corpus\n",
        "  if num_words > -1:\n",
        "    tokenizer = Tokenizer(num_words=num_words)\n",
        "  else:\n",
        "    tokenizer = Tokenizer()\n",
        "  tokenizer.fit_on_texts(corpus)\n",
        "  return tokenizer"
      ],
      "execution_count": 159,
      "outputs": []
    },
    {
      "cell_type": "markdown",
      "metadata": {
        "id": "NGU-1dQfywgY"
      },
      "source": [
        "Tokenizing the Corpus\n",
        "(Max no of word selected=2000)"
      ]
    },
    {
      "cell_type": "code",
      "metadata": {
        "id": "DsSqwZ-I-_EM",
        "outputId": "4110915d-c82a-48ff-f820-1a4125a57da0",
        "colab": {
          "base_uri": "https://localhost:8080/",
          "height": 35
        }
      },
      "source": [
        "tokenizer = tokenize_corpus(corpus, num_words=2000)\n",
        "total_words = tokenizer.num_words\n",
        "print(total_words)"
      ],
      "execution_count": 160,
      "outputs": [
        {
          "output_type": "stream",
          "text": [
            "2000\n"
          ],
          "name": "stdout"
        }
      ]
    },
    {
      "cell_type": "code",
      "metadata": {
        "id": "WYh6WlazfG3z",
        "outputId": "6771b784-c512-4b6d-c582-497d3728b9d5",
        "colab": {
          "base_uri": "https://localhost:8080/",
          "height": 35
        }
      },
      "source": [
        "tokenizer.num_words"
      ],
      "execution_count": 161,
      "outputs": [
        {
          "output_type": "execute_result",
          "data": {
            "text/plain": [
              "2000"
            ]
          },
          "metadata": {
            "tags": []
          },
          "execution_count": 161
        }
      ]
    },
    {
      "cell_type": "markdown",
      "metadata": {
        "id": "09Eyp1-Hytfz"
      },
      "source": [
        "Sequence data building(sequence and padding)"
      ]
    },
    {
      "cell_type": "code",
      "metadata": {
        "id": "Am1OX2Xk_ZMb"
      },
      "source": [
        "sequences = []\n",
        "for line in corpus:\n",
        "\ttoken_list = tokenizer.texts_to_sequences([line])[0]\n",
        "\tfor i in range(1, len(token_list)):\n",
        "\t\tn_gram_sequence = token_list[:i+1]\n",
        "\t\tsequences.append(n_gram_sequence)\n",
        "\n",
        "# Pad sequences for equal input length \n",
        "max_sequence_len = max([len(seq) for seq in sequences])\n",
        "sequences = np.array(pad_sequences(sequences, maxlen=max_sequence_len, padding='pre'))\n",
        "\n",
        "# Split sequences between the \"input\" sequence and \"output\" predicted word\n",
        "input_sequences, labels = sequences[:,:-1], sequences[:,-1]\n",
        "# One-hot encode the labels\n",
        "one_hot_labels = tf.keras.utils.to_categorical(labels, num_classes=total_words)"
      ],
      "execution_count": 162,
      "outputs": []
    },
    {
      "cell_type": "markdown",
      "metadata": {
        "id": "3i5UEvapzgZX"
      },
      "source": [
        "# Bi-directional LSTM Neural Net Creation\n",
        "Embedding dim=64"
      ]
    },
    {
      "cell_type": "code",
      "metadata": {
        "id": "IL1dY12r_vFj",
        "outputId": "85b01b38-6fb6-433e-9ee6-5e9992d4ad08",
        "colab": {
          "base_uri": "https://localhost:8080/",
          "height": 1000
        }
      },
      "source": [
        "from tensorflow.keras.models import Sequential\n",
        "from tensorflow.keras.layers import Embedding, LSTM, Dense, Bidirectional\n",
        "\n",
        "model = Sequential()\n",
        "model.add(Embedding(total_words, 64, input_length=max_sequence_len-1))\n",
        "model.add(Bidirectional(LSTM(20)))\n",
        "model.add(Dense(total_words, activation='softmax'))\n",
        "model.compile(loss='categorical_crossentropy', optimizer='adam', metrics=['accuracy'])\n",
        "history = model.fit(input_sequences, one_hot_labels, epochs=300, verbose=1)"
      ],
      "execution_count": 163,
      "outputs": [
        {
          "output_type": "stream",
          "text": [
            "Epoch 1/300\n",
            "103/103 [==============================] - 1s 8ms/step - loss: 6.3722 - accuracy: 0.0462\n",
            "Epoch 2/300\n",
            "103/103 [==============================] - 1s 8ms/step - loss: 5.1946 - accuracy: 0.0563\n",
            "Epoch 3/300\n",
            "103/103 [==============================] - 1s 8ms/step - loss: 5.1026 - accuracy: 0.0563\n",
            "Epoch 4/300\n",
            "103/103 [==============================] - 1s 8ms/step - loss: 5.0150 - accuracy: 0.0563\n",
            "Epoch 5/300\n",
            "103/103 [==============================] - 1s 8ms/step - loss: 4.9385 - accuracy: 0.0563\n",
            "Epoch 6/300\n",
            "103/103 [==============================] - 1s 8ms/step - loss: 4.8796 - accuracy: 0.0572\n",
            "Epoch 7/300\n",
            "103/103 [==============================] - 1s 7ms/step - loss: 4.8301 - accuracy: 0.0673\n",
            "Epoch 8/300\n",
            "103/103 [==============================] - 1s 7ms/step - loss: 4.7924 - accuracy: 0.0692\n",
            "Epoch 9/300\n",
            "103/103 [==============================] - 1s 8ms/step - loss: 4.7549 - accuracy: 0.0683\n",
            "Epoch 10/300\n",
            "103/103 [==============================] - 1s 8ms/step - loss: 4.7215 - accuracy: 0.0698\n",
            "Epoch 11/300\n",
            "103/103 [==============================] - 1s 8ms/step - loss: 4.6864 - accuracy: 0.0686\n",
            "Epoch 12/300\n",
            "103/103 [==============================] - 1s 8ms/step - loss: 4.6446 - accuracy: 0.0722\n",
            "Epoch 13/300\n",
            "103/103 [==============================] - 1s 7ms/step - loss: 4.6024 - accuracy: 0.0848\n",
            "Epoch 14/300\n",
            "103/103 [==============================] - 1s 8ms/step - loss: 4.5579 - accuracy: 0.0848\n",
            "Epoch 15/300\n",
            "103/103 [==============================] - 1s 8ms/step - loss: 4.5128 - accuracy: 0.1007\n",
            "Epoch 16/300\n",
            "103/103 [==============================] - 1s 8ms/step - loss: 4.4504 - accuracy: 0.1123\n",
            "Epoch 17/300\n",
            "103/103 [==============================] - 1s 8ms/step - loss: 4.3611 - accuracy: 0.1380\n",
            "Epoch 18/300\n",
            "103/103 [==============================] - 1s 8ms/step - loss: 4.2737 - accuracy: 0.1509\n",
            "Epoch 19/300\n",
            "103/103 [==============================] - 1s 8ms/step - loss: 4.1943 - accuracy: 0.1555\n",
            "Epoch 20/300\n",
            "103/103 [==============================] - 1s 8ms/step - loss: 4.1124 - accuracy: 0.1674\n",
            "Epoch 21/300\n",
            "103/103 [==============================] - 1s 8ms/step - loss: 4.0381 - accuracy: 0.1791\n",
            "Epoch 22/300\n",
            "103/103 [==============================] - 1s 8ms/step - loss: 3.9689 - accuracy: 0.1830\n",
            "Epoch 23/300\n",
            "103/103 [==============================] - 1s 8ms/step - loss: 3.8969 - accuracy: 0.2020\n",
            "Epoch 24/300\n",
            "103/103 [==============================] - 1s 8ms/step - loss: 3.8285 - accuracy: 0.2121\n",
            "Epoch 25/300\n",
            "103/103 [==============================] - 1s 9ms/step - loss: 3.7692 - accuracy: 0.2176\n",
            "Epoch 26/300\n",
            "103/103 [==============================] - 1s 7ms/step - loss: 3.7102 - accuracy: 0.2287\n",
            "Epoch 27/300\n",
            "103/103 [==============================] - 1s 8ms/step - loss: 3.6556 - accuracy: 0.2320\n",
            "Epoch 28/300\n",
            "103/103 [==============================] - 1s 8ms/step - loss: 3.5973 - accuracy: 0.2421\n",
            "Epoch 29/300\n",
            "103/103 [==============================] - 1s 8ms/step - loss: 3.5422 - accuracy: 0.2568\n",
            "Epoch 30/300\n",
            "103/103 [==============================] - 1s 8ms/step - loss: 3.4991 - accuracy: 0.2632\n",
            "Epoch 31/300\n",
            "103/103 [==============================] - 1s 8ms/step - loss: 3.4438 - accuracy: 0.2669\n",
            "Epoch 32/300\n",
            "103/103 [==============================] - 1s 7ms/step - loss: 3.3962 - accuracy: 0.2758\n",
            "Epoch 33/300\n",
            "103/103 [==============================] - 1s 8ms/step - loss: 3.3441 - accuracy: 0.2862\n",
            "Epoch 34/300\n",
            "103/103 [==============================] - 1s 7ms/step - loss: 3.3212 - accuracy: 0.2890\n",
            "Epoch 35/300\n",
            "103/103 [==============================] - 1s 8ms/step - loss: 3.2565 - accuracy: 0.2994\n",
            "Epoch 36/300\n",
            "103/103 [==============================] - 1s 8ms/step - loss: 3.2106 - accuracy: 0.3073\n",
            "Epoch 37/300\n",
            "103/103 [==============================] - 1s 7ms/step - loss: 3.1826 - accuracy: 0.3134\n",
            "Epoch 38/300\n",
            "103/103 [==============================] - 1s 8ms/step - loss: 3.1496 - accuracy: 0.3202\n",
            "Epoch 39/300\n",
            "103/103 [==============================] - 1s 8ms/step - loss: 3.0978 - accuracy: 0.3242\n",
            "Epoch 40/300\n",
            "103/103 [==============================] - 1s 8ms/step - loss: 3.0429 - accuracy: 0.3517\n",
            "Epoch 41/300\n",
            "103/103 [==============================] - 1s 8ms/step - loss: 3.0030 - accuracy: 0.3489\n",
            "Epoch 42/300\n",
            "103/103 [==============================] - 1s 8ms/step - loss: 2.9587 - accuracy: 0.3630\n",
            "Epoch 43/300\n",
            "103/103 [==============================] - 1s 8ms/step - loss: 2.9182 - accuracy: 0.3734\n",
            "Epoch 44/300\n",
            "103/103 [==============================] - 1s 8ms/step - loss: 2.8742 - accuracy: 0.3832\n",
            "Epoch 45/300\n",
            "103/103 [==============================] - 1s 8ms/step - loss: 2.8395 - accuracy: 0.3845\n",
            "Epoch 46/300\n",
            "103/103 [==============================] - 1s 7ms/step - loss: 2.8093 - accuracy: 0.3964\n",
            "Epoch 47/300\n",
            "103/103 [==============================] - 1s 8ms/step - loss: 2.7705 - accuracy: 0.4007\n",
            "Epoch 48/300\n",
            "103/103 [==============================] - 1s 8ms/step - loss: 2.7309 - accuracy: 0.4099\n",
            "Epoch 49/300\n",
            "103/103 [==============================] - 1s 8ms/step - loss: 2.6855 - accuracy: 0.4053\n",
            "Epoch 50/300\n",
            "103/103 [==============================] - 1s 8ms/step - loss: 2.6492 - accuracy: 0.4144\n",
            "Epoch 51/300\n",
            "103/103 [==============================] - 1s 8ms/step - loss: 2.6188 - accuracy: 0.4224\n",
            "Epoch 52/300\n",
            "103/103 [==============================] - 1s 8ms/step - loss: 2.5842 - accuracy: 0.4362\n",
            "Epoch 53/300\n",
            "103/103 [==============================] - 1s 8ms/step - loss: 2.5403 - accuracy: 0.4463\n",
            "Epoch 54/300\n",
            "103/103 [==============================] - 1s 8ms/step - loss: 2.5047 - accuracy: 0.4579\n",
            "Epoch 55/300\n",
            "103/103 [==============================] - 1s 8ms/step - loss: 2.4783 - accuracy: 0.4674\n",
            "Epoch 56/300\n",
            "103/103 [==============================] - 1s 8ms/step - loss: 2.4450 - accuracy: 0.4677\n",
            "Epoch 57/300\n",
            "103/103 [==============================] - 1s 8ms/step - loss: 2.4109 - accuracy: 0.4723\n",
            "Epoch 58/300\n",
            "103/103 [==============================] - 1s 8ms/step - loss: 2.3889 - accuracy: 0.4754\n",
            "Epoch 59/300\n",
            "103/103 [==============================] - 1s 8ms/step - loss: 2.3456 - accuracy: 0.4882\n",
            "Epoch 60/300\n",
            "103/103 [==============================] - 1s 8ms/step - loss: 2.3120 - accuracy: 0.5002\n",
            "Epoch 61/300\n",
            "103/103 [==============================] - 1s 8ms/step - loss: 2.2922 - accuracy: 0.5014\n",
            "Epoch 62/300\n",
            "103/103 [==============================] - 1s 8ms/step - loss: 2.2594 - accuracy: 0.5084\n",
            "Epoch 63/300\n",
            "103/103 [==============================] - 1s 8ms/step - loss: 2.2350 - accuracy: 0.5167\n",
            "Epoch 64/300\n",
            "103/103 [==============================] - 1s 8ms/step - loss: 2.2004 - accuracy: 0.5204\n",
            "Epoch 65/300\n",
            "103/103 [==============================] - 1s 8ms/step - loss: 2.1754 - accuracy: 0.5237\n",
            "Epoch 66/300\n",
            "103/103 [==============================] - 1s 8ms/step - loss: 2.1620 - accuracy: 0.5268\n",
            "Epoch 67/300\n",
            "103/103 [==============================] - 1s 8ms/step - loss: 2.1233 - accuracy: 0.5381\n",
            "Epoch 68/300\n",
            "103/103 [==============================] - 1s 8ms/step - loss: 2.1038 - accuracy: 0.5418\n",
            "Epoch 69/300\n",
            "103/103 [==============================] - 1s 8ms/step - loss: 2.0702 - accuracy: 0.5479\n",
            "Epoch 70/300\n",
            "103/103 [==============================] - 1s 8ms/step - loss: 2.0658 - accuracy: 0.5467\n",
            "Epoch 71/300\n",
            "103/103 [==============================] - 1s 8ms/step - loss: 2.0211 - accuracy: 0.5556\n",
            "Epoch 72/300\n",
            "103/103 [==============================] - 1s 8ms/step - loss: 1.9922 - accuracy: 0.5657\n",
            "Epoch 73/300\n",
            "103/103 [==============================] - 1s 8ms/step - loss: 1.9774 - accuracy: 0.5632\n",
            "Epoch 74/300\n",
            "103/103 [==============================] - 1s 8ms/step - loss: 1.9579 - accuracy: 0.5681\n",
            "Epoch 75/300\n",
            "103/103 [==============================] - 1s 8ms/step - loss: 1.9341 - accuracy: 0.5779\n",
            "Epoch 76/300\n",
            "103/103 [==============================] - 1s 8ms/step - loss: 1.9088 - accuracy: 0.5785\n",
            "Epoch 77/300\n",
            "103/103 [==============================] - 1s 8ms/step - loss: 1.8847 - accuracy: 0.5852\n",
            "Epoch 78/300\n",
            "103/103 [==============================] - 1s 8ms/step - loss: 1.8625 - accuracy: 0.5892\n",
            "Epoch 79/300\n",
            "103/103 [==============================] - 1s 8ms/step - loss: 1.8502 - accuracy: 0.5868\n",
            "Epoch 80/300\n",
            "103/103 [==============================] - 1s 8ms/step - loss: 1.8314 - accuracy: 0.5904\n",
            "Epoch 81/300\n",
            "103/103 [==============================] - 1s 8ms/step - loss: 1.8155 - accuracy: 0.5990\n",
            "Epoch 82/300\n",
            "103/103 [==============================] - 1s 8ms/step - loss: 1.7892 - accuracy: 0.5999\n",
            "Epoch 83/300\n",
            "103/103 [==============================] - 1s 8ms/step - loss: 1.7774 - accuracy: 0.6018\n",
            "Epoch 84/300\n",
            "103/103 [==============================] - 1s 9ms/step - loss: 1.7552 - accuracy: 0.6054\n",
            "Epoch 85/300\n",
            "103/103 [==============================] - 1s 7ms/step - loss: 1.7384 - accuracy: 0.6113\n",
            "Epoch 86/300\n",
            "103/103 [==============================] - 1s 8ms/step - loss: 1.7275 - accuracy: 0.6131\n",
            "Epoch 87/300\n",
            "103/103 [==============================] - 1s 8ms/step - loss: 1.7079 - accuracy: 0.6165\n",
            "Epoch 88/300\n",
            "103/103 [==============================] - 1s 8ms/step - loss: 1.6853 - accuracy: 0.6235\n",
            "Epoch 89/300\n",
            "103/103 [==============================] - 1s 8ms/step - loss: 1.6727 - accuracy: 0.6226\n",
            "Epoch 90/300\n",
            "103/103 [==============================] - 1s 9ms/step - loss: 1.6540 - accuracy: 0.6315\n",
            "Epoch 91/300\n",
            "103/103 [==============================] - 1s 8ms/step - loss: 1.6417 - accuracy: 0.6290\n",
            "Epoch 92/300\n",
            "103/103 [==============================] - 1s 8ms/step - loss: 1.6688 - accuracy: 0.6263\n",
            "Epoch 93/300\n",
            "103/103 [==============================] - 1s 8ms/step - loss: 1.6240 - accuracy: 0.6342\n",
            "Epoch 94/300\n",
            "103/103 [==============================] - 1s 8ms/step - loss: 1.6005 - accuracy: 0.6391\n",
            "Epoch 95/300\n",
            "103/103 [==============================] - 1s 8ms/step - loss: 1.5809 - accuracy: 0.6434\n",
            "Epoch 96/300\n",
            "103/103 [==============================] - 1s 8ms/step - loss: 1.5690 - accuracy: 0.6498\n",
            "Epoch 97/300\n",
            "103/103 [==============================] - 1s 8ms/step - loss: 1.5629 - accuracy: 0.6452\n",
            "Epoch 98/300\n",
            "103/103 [==============================] - 1s 7ms/step - loss: 1.5531 - accuracy: 0.6483\n",
            "Epoch 99/300\n",
            "103/103 [==============================] - 1s 8ms/step - loss: 1.5331 - accuracy: 0.6538\n",
            "Epoch 100/300\n",
            "103/103 [==============================] - 1s 8ms/step - loss: 1.5290 - accuracy: 0.6517\n",
            "Epoch 101/300\n",
            "103/103 [==============================] - 1s 8ms/step - loss: 1.5158 - accuracy: 0.6538\n",
            "Epoch 102/300\n",
            "103/103 [==============================] - 1s 8ms/step - loss: 1.5046 - accuracy: 0.6566\n",
            "Epoch 103/300\n",
            "103/103 [==============================] - 1s 8ms/step - loss: 1.4891 - accuracy: 0.6538\n",
            "Epoch 104/300\n",
            "103/103 [==============================] - 1s 8ms/step - loss: 1.4760 - accuracy: 0.6621\n",
            "Epoch 105/300\n",
            "103/103 [==============================] - 1s 8ms/step - loss: 1.4600 - accuracy: 0.6673\n",
            "Epoch 106/300\n",
            "103/103 [==============================] - 1s 8ms/step - loss: 1.4490 - accuracy: 0.6651\n",
            "Epoch 107/300\n",
            "103/103 [==============================] - 1s 8ms/step - loss: 1.4417 - accuracy: 0.6654\n",
            "Epoch 108/300\n",
            "103/103 [==============================] - 1s 8ms/step - loss: 1.4195 - accuracy: 0.6740\n",
            "Epoch 109/300\n",
            "103/103 [==============================] - 1s 8ms/step - loss: 1.4157 - accuracy: 0.6716\n",
            "Epoch 110/300\n",
            "103/103 [==============================] - 1s 8ms/step - loss: 1.3972 - accuracy: 0.6752\n",
            "Epoch 111/300\n",
            "103/103 [==============================] - 1s 8ms/step - loss: 1.3838 - accuracy: 0.6762\n",
            "Epoch 112/300\n",
            "103/103 [==============================] - 1s 8ms/step - loss: 1.3703 - accuracy: 0.6847\n",
            "Epoch 113/300\n",
            "103/103 [==============================] - 1s 9ms/step - loss: 1.3601 - accuracy: 0.6863\n",
            "Epoch 114/300\n",
            "103/103 [==============================] - 1s 8ms/step - loss: 1.3443 - accuracy: 0.6804\n",
            "Epoch 115/300\n",
            "103/103 [==============================] - 1s 8ms/step - loss: 1.3351 - accuracy: 0.6847\n",
            "Epoch 116/300\n",
            "103/103 [==============================] - 1s 8ms/step - loss: 1.3316 - accuracy: 0.6896\n",
            "Epoch 117/300\n",
            "103/103 [==============================] - 1s 8ms/step - loss: 1.3404 - accuracy: 0.6850\n",
            "Epoch 118/300\n",
            "103/103 [==============================] - 1s 8ms/step - loss: 1.3238 - accuracy: 0.6835\n",
            "Epoch 119/300\n",
            "103/103 [==============================] - 1s 8ms/step - loss: 1.3222 - accuracy: 0.6853\n",
            "Epoch 120/300\n",
            "103/103 [==============================] - 1s 9ms/step - loss: 1.3123 - accuracy: 0.6872\n",
            "Epoch 121/300\n",
            "103/103 [==============================] - 1s 8ms/step - loss: 1.2972 - accuracy: 0.6896\n",
            "Epoch 122/300\n",
            "103/103 [==============================] - 1s 8ms/step - loss: 1.2828 - accuracy: 0.6939\n",
            "Epoch 123/300\n",
            "103/103 [==============================] - 1s 8ms/step - loss: 1.2682 - accuracy: 0.7016\n",
            "Epoch 124/300\n",
            "103/103 [==============================] - 1s 9ms/step - loss: 1.2758 - accuracy: 0.7000\n",
            "Epoch 125/300\n",
            "103/103 [==============================] - 1s 8ms/step - loss: 1.2671 - accuracy: 0.6985\n",
            "Epoch 126/300\n",
            "103/103 [==============================] - 1s 8ms/step - loss: 1.2584 - accuracy: 0.6964\n",
            "Epoch 127/300\n",
            "103/103 [==============================] - 1s 8ms/step - loss: 1.2595 - accuracy: 0.6930\n",
            "Epoch 128/300\n",
            "103/103 [==============================] - 1s 8ms/step - loss: 1.2659 - accuracy: 0.7037\n",
            "Epoch 129/300\n",
            "103/103 [==============================] - 1s 8ms/step - loss: 1.2322 - accuracy: 0.7009\n",
            "Epoch 130/300\n",
            "103/103 [==============================] - 1s 8ms/step - loss: 1.2210 - accuracy: 0.6997\n",
            "Epoch 131/300\n",
            "103/103 [==============================] - 1s 8ms/step - loss: 1.2029 - accuracy: 0.7086\n",
            "Epoch 132/300\n",
            "103/103 [==============================] - 1s 8ms/step - loss: 1.2444 - accuracy: 0.6988\n",
            "Epoch 133/300\n",
            "103/103 [==============================] - 1s 8ms/step - loss: 1.1912 - accuracy: 0.7178\n",
            "Epoch 134/300\n",
            "103/103 [==============================] - 1s 8ms/step - loss: 1.1817 - accuracy: 0.7175\n",
            "Epoch 135/300\n",
            "103/103 [==============================] - 1s 8ms/step - loss: 1.1683 - accuracy: 0.7199\n",
            "Epoch 136/300\n",
            "103/103 [==============================] - 1s 8ms/step - loss: 1.1562 - accuracy: 0.7215\n",
            "Epoch 137/300\n",
            "103/103 [==============================] - 1s 8ms/step - loss: 1.1506 - accuracy: 0.7212\n",
            "Epoch 138/300\n",
            "103/103 [==============================] - 1s 8ms/step - loss: 1.1478 - accuracy: 0.7242\n",
            "Epoch 139/300\n",
            "103/103 [==============================] - 1s 8ms/step - loss: 1.1517 - accuracy: 0.7193\n",
            "Epoch 140/300\n",
            "103/103 [==============================] - 1s 9ms/step - loss: 1.1416 - accuracy: 0.7245\n",
            "Epoch 141/300\n",
            "103/103 [==============================] - 1s 8ms/step - loss: 1.1253 - accuracy: 0.7270\n",
            "Epoch 142/300\n",
            "103/103 [==============================] - 1s 8ms/step - loss: 1.1195 - accuracy: 0.7328\n",
            "Epoch 143/300\n",
            "103/103 [==============================] - 1s 8ms/step - loss: 1.1224 - accuracy: 0.7257\n",
            "Epoch 144/300\n",
            "103/103 [==============================] - 1s 8ms/step - loss: 1.1163 - accuracy: 0.7291\n",
            "Epoch 145/300\n",
            "103/103 [==============================] - 1s 8ms/step - loss: 1.1031 - accuracy: 0.7303\n",
            "Epoch 146/300\n",
            "103/103 [==============================] - 1s 8ms/step - loss: 1.1160 - accuracy: 0.7245\n",
            "Epoch 147/300\n",
            "103/103 [==============================] - 1s 8ms/step - loss: 1.1030 - accuracy: 0.7282\n",
            "Epoch 148/300\n",
            "103/103 [==============================] - 1s 8ms/step - loss: 1.0879 - accuracy: 0.7297\n",
            "Epoch 149/300\n",
            "103/103 [==============================] - 1s 8ms/step - loss: 1.0793 - accuracy: 0.7365\n",
            "Epoch 150/300\n",
            "103/103 [==============================] - 1s 8ms/step - loss: 1.0682 - accuracy: 0.7358\n",
            "Epoch 151/300\n",
            "103/103 [==============================] - 1s 8ms/step - loss: 1.0766 - accuracy: 0.7349\n",
            "Epoch 152/300\n",
            "103/103 [==============================] - 1s 8ms/step - loss: 1.0836 - accuracy: 0.7401\n",
            "Epoch 153/300\n",
            "103/103 [==============================] - 1s 8ms/step - loss: 1.0533 - accuracy: 0.7441\n",
            "Epoch 154/300\n",
            "103/103 [==============================] - 1s 8ms/step - loss: 1.0429 - accuracy: 0.7426\n",
            "Epoch 155/300\n",
            "103/103 [==============================] - 1s 8ms/step - loss: 1.0719 - accuracy: 0.7343\n",
            "Epoch 156/300\n",
            "103/103 [==============================] - 1s 8ms/step - loss: 1.0628 - accuracy: 0.7401\n",
            "Epoch 157/300\n",
            "103/103 [==============================] - 1s 8ms/step - loss: 1.0468 - accuracy: 0.7401\n",
            "Epoch 158/300\n",
            "103/103 [==============================] - 1s 8ms/step - loss: 1.0311 - accuracy: 0.7429\n",
            "Epoch 159/300\n",
            "103/103 [==============================] - 1s 8ms/step - loss: 1.0162 - accuracy: 0.7499\n",
            "Epoch 160/300\n",
            "103/103 [==============================] - 1s 8ms/step - loss: 1.0092 - accuracy: 0.7515\n",
            "Epoch 161/300\n",
            "103/103 [==============================] - 1s 8ms/step - loss: 0.9998 - accuracy: 0.7505\n",
            "Epoch 162/300\n",
            "103/103 [==============================] - 1s 8ms/step - loss: 0.9977 - accuracy: 0.7539\n",
            "Epoch 163/300\n",
            "103/103 [==============================] - 1s 8ms/step - loss: 0.9999 - accuracy: 0.7511\n",
            "Epoch 164/300\n",
            "103/103 [==============================] - 1s 8ms/step - loss: 1.0227 - accuracy: 0.7490\n",
            "Epoch 165/300\n",
            "103/103 [==============================] - 1s 8ms/step - loss: 1.0366 - accuracy: 0.7420\n",
            "Epoch 166/300\n",
            "103/103 [==============================] - 1s 8ms/step - loss: 0.9963 - accuracy: 0.7533\n",
            "Epoch 167/300\n",
            "103/103 [==============================] - 1s 8ms/step - loss: 0.9866 - accuracy: 0.7527\n",
            "Epoch 168/300\n",
            "103/103 [==============================] - 1s 8ms/step - loss: 0.9730 - accuracy: 0.7560\n",
            "Epoch 169/300\n",
            "103/103 [==============================] - 1s 9ms/step - loss: 0.9637 - accuracy: 0.7619\n",
            "Epoch 170/300\n",
            "103/103 [==============================] - 1s 8ms/step - loss: 0.9619 - accuracy: 0.7628\n",
            "Epoch 171/300\n",
            "103/103 [==============================] - 1s 9ms/step - loss: 0.9497 - accuracy: 0.7668\n",
            "Epoch 172/300\n",
            "103/103 [==============================] - 1s 9ms/step - loss: 0.9499 - accuracy: 0.7600\n",
            "Epoch 173/300\n",
            "103/103 [==============================] - 1s 8ms/step - loss: 0.9996 - accuracy: 0.7484\n",
            "Epoch 174/300\n",
            "103/103 [==============================] - 1s 8ms/step - loss: 0.9677 - accuracy: 0.7573\n",
            "Epoch 175/300\n",
            "103/103 [==============================] - 1s 8ms/step - loss: 0.9494 - accuracy: 0.7625\n",
            "Epoch 176/300\n",
            "103/103 [==============================] - 1s 8ms/step - loss: 0.9420 - accuracy: 0.7643\n",
            "Epoch 177/300\n",
            "103/103 [==============================] - 1s 8ms/step - loss: 0.9292 - accuracy: 0.7668\n",
            "Epoch 178/300\n",
            "103/103 [==============================] - 1s 8ms/step - loss: 0.9261 - accuracy: 0.7701\n",
            "Epoch 179/300\n",
            "103/103 [==============================] - 1s 8ms/step - loss: 0.9280 - accuracy: 0.7671\n",
            "Epoch 180/300\n",
            "103/103 [==============================] - 1s 8ms/step - loss: 0.9194 - accuracy: 0.7683\n",
            "Epoch 181/300\n",
            "103/103 [==============================] - 1s 9ms/step - loss: 0.9211 - accuracy: 0.7655\n",
            "Epoch 182/300\n",
            "103/103 [==============================] - 1s 8ms/step - loss: 0.9191 - accuracy: 0.7680\n",
            "Epoch 183/300\n",
            "103/103 [==============================] - 1s 7ms/step - loss: 0.9149 - accuracy: 0.7741\n",
            "Epoch 184/300\n",
            "103/103 [==============================] - 1s 8ms/step - loss: 0.9093 - accuracy: 0.7692\n",
            "Epoch 185/300\n",
            "103/103 [==============================] - 1s 8ms/step - loss: 0.8982 - accuracy: 0.7713\n",
            "Epoch 186/300\n",
            "103/103 [==============================] - 1s 8ms/step - loss: 0.9059 - accuracy: 0.7698\n",
            "Epoch 187/300\n",
            "103/103 [==============================] - 1s 8ms/step - loss: 0.9386 - accuracy: 0.7591\n",
            "Epoch 188/300\n",
            "103/103 [==============================] - 1s 8ms/step - loss: 0.9365 - accuracy: 0.7612\n",
            "Epoch 189/300\n",
            "103/103 [==============================] - 1s 8ms/step - loss: 0.9127 - accuracy: 0.7698\n",
            "Epoch 190/300\n",
            "103/103 [==============================] - 1s 8ms/step - loss: 0.8773 - accuracy: 0.7720\n",
            "Epoch 191/300\n",
            "103/103 [==============================] - 1s 8ms/step - loss: 0.8779 - accuracy: 0.7753\n",
            "Epoch 192/300\n",
            "103/103 [==============================] - 1s 8ms/step - loss: 0.8689 - accuracy: 0.7784\n",
            "Epoch 193/300\n",
            "103/103 [==============================] - 1s 8ms/step - loss: 0.8638 - accuracy: 0.7799\n",
            "Epoch 194/300\n",
            "103/103 [==============================] - 1s 8ms/step - loss: 0.8654 - accuracy: 0.7802\n",
            "Epoch 195/300\n",
            "103/103 [==============================] - 1s 8ms/step - loss: 0.8533 - accuracy: 0.7759\n",
            "Epoch 196/300\n",
            "103/103 [==============================] - 1s 8ms/step - loss: 0.8436 - accuracy: 0.7857\n",
            "Epoch 197/300\n",
            "103/103 [==============================] - 1s 8ms/step - loss: 0.8411 - accuracy: 0.7824\n",
            "Epoch 198/300\n",
            "103/103 [==============================] - 1s 8ms/step - loss: 0.8360 - accuracy: 0.7830\n",
            "Epoch 199/300\n",
            "103/103 [==============================] - 1s 8ms/step - loss: 0.8313 - accuracy: 0.7854\n",
            "Epoch 200/300\n",
            "103/103 [==============================] - 1s 9ms/step - loss: 0.8300 - accuracy: 0.7870\n",
            "Epoch 201/300\n",
            "103/103 [==============================] - 1s 8ms/step - loss: 0.8308 - accuracy: 0.7830\n",
            "Epoch 202/300\n",
            "103/103 [==============================] - 1s 8ms/step - loss: 0.8304 - accuracy: 0.7827\n",
            "Epoch 203/300\n",
            "103/103 [==============================] - 1s 8ms/step - loss: 0.8401 - accuracy: 0.7842\n",
            "Epoch 204/300\n",
            "103/103 [==============================] - 1s 8ms/step - loss: 0.8406 - accuracy: 0.7857\n",
            "Epoch 205/300\n",
            "103/103 [==============================] - 1s 8ms/step - loss: 0.8302 - accuracy: 0.7815\n",
            "Epoch 206/300\n",
            "103/103 [==============================] - 1s 8ms/step - loss: 0.8347 - accuracy: 0.7842\n",
            "Epoch 207/300\n",
            "103/103 [==============================] - 1s 8ms/step - loss: 0.8255 - accuracy: 0.7842\n",
            "Epoch 208/300\n",
            "103/103 [==============================] - 1s 8ms/step - loss: 0.8187 - accuracy: 0.7867\n",
            "Epoch 209/300\n",
            "103/103 [==============================] - 1s 8ms/step - loss: 0.8045 - accuracy: 0.7912\n",
            "Epoch 210/300\n",
            "103/103 [==============================] - 1s 8ms/step - loss: 0.7928 - accuracy: 0.7928\n",
            "Epoch 211/300\n",
            "103/103 [==============================] - 1s 8ms/step - loss: 0.7886 - accuracy: 0.7906\n",
            "Epoch 212/300\n",
            "103/103 [==============================] - 1s 8ms/step - loss: 0.7944 - accuracy: 0.7919\n",
            "Epoch 213/300\n",
            "103/103 [==============================] - 1s 8ms/step - loss: 0.8143 - accuracy: 0.7860\n",
            "Epoch 214/300\n",
            "103/103 [==============================] - 1s 8ms/step - loss: 0.7906 - accuracy: 0.7922\n",
            "Epoch 215/300\n",
            "103/103 [==============================] - 1s 9ms/step - loss: 0.7965 - accuracy: 0.7961\n",
            "Epoch 216/300\n",
            "103/103 [==============================] - 1s 9ms/step - loss: 0.7933 - accuracy: 0.7919\n",
            "Epoch 217/300\n",
            "103/103 [==============================] - 1s 8ms/step - loss: 0.8186 - accuracy: 0.7912\n",
            "Epoch 218/300\n",
            "103/103 [==============================] - 1s 8ms/step - loss: 0.8084 - accuracy: 0.7870\n",
            "Epoch 219/300\n",
            "103/103 [==============================] - 1s 8ms/step - loss: 0.8414 - accuracy: 0.7772\n",
            "Epoch 220/300\n",
            "103/103 [==============================] - 1s 8ms/step - loss: 0.8333 - accuracy: 0.7821\n",
            "Epoch 221/300\n",
            "103/103 [==============================] - 1s 8ms/step - loss: 0.8371 - accuracy: 0.7824\n",
            "Epoch 222/300\n",
            "103/103 [==============================] - 1s 8ms/step - loss: 0.8127 - accuracy: 0.7912\n",
            "Epoch 223/300\n",
            "103/103 [==============================] - 1s 8ms/step - loss: 0.7921 - accuracy: 0.7888\n",
            "Epoch 224/300\n",
            "103/103 [==============================] - 1s 9ms/step - loss: 0.7782 - accuracy: 0.7903\n",
            "Epoch 225/300\n",
            "103/103 [==============================] - 1s 8ms/step - loss: 0.7663 - accuracy: 0.7968\n",
            "Epoch 226/300\n",
            "103/103 [==============================] - 1s 8ms/step - loss: 0.7526 - accuracy: 0.7992\n",
            "Epoch 227/300\n",
            "103/103 [==============================] - 1s 8ms/step - loss: 0.7435 - accuracy: 0.7989\n",
            "Epoch 228/300\n",
            "103/103 [==============================] - 1s 8ms/step - loss: 0.7351 - accuracy: 0.8050\n",
            "Epoch 229/300\n",
            "103/103 [==============================] - 1s 8ms/step - loss: 0.7432 - accuracy: 0.8004\n",
            "Epoch 230/300\n",
            "103/103 [==============================] - 1s 8ms/step - loss: 0.7852 - accuracy: 0.7949\n",
            "Epoch 231/300\n",
            "103/103 [==============================] - 1s 8ms/step - loss: 0.7515 - accuracy: 0.8029\n",
            "Epoch 232/300\n",
            "103/103 [==============================] - 1s 8ms/step - loss: 0.7399 - accuracy: 0.8069\n",
            "Epoch 233/300\n",
            "103/103 [==============================] - 1s 8ms/step - loss: 0.7285 - accuracy: 0.8066\n",
            "Epoch 234/300\n",
            "103/103 [==============================] - 1s 8ms/step - loss: 0.7216 - accuracy: 0.8072\n",
            "Epoch 235/300\n",
            "103/103 [==============================] - 1s 8ms/step - loss: 0.7192 - accuracy: 0.8093\n",
            "Epoch 236/300\n",
            "103/103 [==============================] - 1s 8ms/step - loss: 0.7139 - accuracy: 0.8114\n",
            "Epoch 237/300\n",
            "103/103 [==============================] - 1s 8ms/step - loss: 0.7146 - accuracy: 0.8081\n",
            "Epoch 238/300\n",
            "103/103 [==============================] - 1s 8ms/step - loss: 0.7173 - accuracy: 0.8056\n",
            "Epoch 239/300\n",
            "103/103 [==============================] - 1s 8ms/step - loss: 0.7244 - accuracy: 0.8053\n",
            "Epoch 240/300\n",
            "103/103 [==============================] - 1s 8ms/step - loss: 0.7114 - accuracy: 0.8050\n",
            "Epoch 241/300\n",
            "103/103 [==============================] - 1s 8ms/step - loss: 0.7499 - accuracy: 0.7998\n",
            "Epoch 242/300\n",
            "103/103 [==============================] - 1s 8ms/step - loss: 0.7451 - accuracy: 0.8029\n",
            "Epoch 243/300\n",
            "103/103 [==============================] - 1s 8ms/step - loss: 0.7281 - accuracy: 0.8059\n",
            "Epoch 244/300\n",
            "103/103 [==============================] - 1s 9ms/step - loss: 0.7245 - accuracy: 0.8056\n",
            "Epoch 245/300\n",
            "103/103 [==============================] - 1s 8ms/step - loss: 0.7194 - accuracy: 0.8066\n",
            "Epoch 246/300\n",
            "103/103 [==============================] - 1s 8ms/step - loss: 0.7013 - accuracy: 0.8105\n",
            "Epoch 247/300\n",
            "103/103 [==============================] - 1s 8ms/step - loss: 0.6882 - accuracy: 0.8124\n",
            "Epoch 248/300\n",
            "103/103 [==============================] - 1s 8ms/step - loss: 0.6813 - accuracy: 0.8163\n",
            "Epoch 249/300\n",
            "103/103 [==============================] - 1s 8ms/step - loss: 0.6817 - accuracy: 0.8173\n",
            "Epoch 250/300\n",
            "103/103 [==============================] - 1s 8ms/step - loss: 0.6765 - accuracy: 0.8182\n",
            "Epoch 251/300\n",
            "103/103 [==============================] - 1s 8ms/step - loss: 0.6765 - accuracy: 0.8209\n",
            "Epoch 252/300\n",
            "103/103 [==============================] - 1s 8ms/step - loss: 0.6699 - accuracy: 0.8200\n",
            "Epoch 253/300\n",
            "103/103 [==============================] - 1s 8ms/step - loss: 0.6722 - accuracy: 0.8200\n",
            "Epoch 254/300\n",
            "103/103 [==============================] - 1s 8ms/step - loss: 0.6686 - accuracy: 0.8197\n",
            "Epoch 255/300\n",
            "103/103 [==============================] - 1s 8ms/step - loss: 0.6683 - accuracy: 0.8203\n",
            "Epoch 256/300\n",
            "103/103 [==============================] - 1s 9ms/step - loss: 0.6609 - accuracy: 0.8228\n",
            "Epoch 257/300\n",
            "103/103 [==============================] - 1s 8ms/step - loss: 0.6951 - accuracy: 0.8105\n",
            "Epoch 258/300\n",
            "103/103 [==============================] - 1s 8ms/step - loss: 0.7146 - accuracy: 0.8044\n",
            "Epoch 259/300\n",
            "103/103 [==============================] - 1s 8ms/step - loss: 0.6839 - accuracy: 0.8118\n",
            "Epoch 260/300\n",
            "103/103 [==============================] - 1s 8ms/step - loss: 0.6796 - accuracy: 0.8148\n",
            "Epoch 261/300\n",
            "103/103 [==============================] - 1s 8ms/step - loss: 0.6632 - accuracy: 0.8185\n",
            "Epoch 262/300\n",
            "103/103 [==============================] - 1s 8ms/step - loss: 0.6602 - accuracy: 0.8212\n",
            "Epoch 263/300\n",
            "103/103 [==============================] - 1s 8ms/step - loss: 0.6524 - accuracy: 0.8225\n",
            "Epoch 264/300\n",
            "103/103 [==============================] - 1s 8ms/step - loss: 0.6711 - accuracy: 0.8127\n",
            "Epoch 265/300\n",
            "103/103 [==============================] - 1s 8ms/step - loss: 0.6642 - accuracy: 0.8139\n",
            "Epoch 266/300\n",
            "103/103 [==============================] - 1s 8ms/step - loss: 0.6556 - accuracy: 0.8139\n",
            "Epoch 267/300\n",
            "103/103 [==============================] - 1s 8ms/step - loss: 0.6442 - accuracy: 0.8255\n",
            "Epoch 268/300\n",
            "103/103 [==============================] - 1s 8ms/step - loss: 0.6420 - accuracy: 0.8222\n",
            "Epoch 269/300\n",
            "103/103 [==============================] - 1s 8ms/step - loss: 0.6392 - accuracy: 0.8212\n",
            "Epoch 270/300\n",
            "103/103 [==============================] - 1s 9ms/step - loss: 0.6358 - accuracy: 0.8228\n",
            "Epoch 271/300\n",
            "103/103 [==============================] - 1s 8ms/step - loss: 0.6387 - accuracy: 0.8219\n",
            "Epoch 272/300\n",
            "103/103 [==============================] - 1s 8ms/step - loss: 0.6334 - accuracy: 0.8255\n",
            "Epoch 273/300\n",
            "103/103 [==============================] - 1s 8ms/step - loss: 0.6303 - accuracy: 0.8206\n",
            "Epoch 274/300\n",
            "103/103 [==============================] - 1s 9ms/step - loss: 0.6287 - accuracy: 0.8243\n",
            "Epoch 275/300\n",
            "103/103 [==============================] - 1s 8ms/step - loss: 0.6292 - accuracy: 0.8228\n",
            "Epoch 276/300\n",
            "103/103 [==============================] - 1s 9ms/step - loss: 0.6175 - accuracy: 0.8289\n",
            "Epoch 277/300\n",
            "103/103 [==============================] - 1s 8ms/step - loss: 0.6182 - accuracy: 0.8310\n",
            "Epoch 278/300\n",
            "103/103 [==============================] - 1s 8ms/step - loss: 0.6121 - accuracy: 0.8295\n",
            "Epoch 279/300\n",
            "103/103 [==============================] - 1s 8ms/step - loss: 0.6299 - accuracy: 0.8197\n",
            "Epoch 280/300\n",
            "103/103 [==============================] - 1s 9ms/step - loss: 0.6221 - accuracy: 0.8228\n",
            "Epoch 281/300\n",
            "103/103 [==============================] - 1s 9ms/step - loss: 0.7607 - accuracy: 0.7867\n",
            "Epoch 282/300\n",
            "103/103 [==============================] - 1s 9ms/step - loss: 0.6925 - accuracy: 0.8066\n",
            "Epoch 283/300\n",
            "103/103 [==============================] - 1s 9ms/step - loss: 0.6589 - accuracy: 0.8188\n",
            "Epoch 284/300\n",
            "103/103 [==============================] - 1s 8ms/step - loss: 0.6383 - accuracy: 0.8163\n",
            "Epoch 285/300\n",
            "103/103 [==============================] - 1s 9ms/step - loss: 0.6338 - accuracy: 0.8225\n",
            "Epoch 286/300\n",
            "103/103 [==============================] - 1s 9ms/step - loss: 0.6419 - accuracy: 0.8194\n",
            "Epoch 287/300\n",
            "103/103 [==============================] - 1s 8ms/step - loss: 0.6245 - accuracy: 0.8252\n",
            "Epoch 288/300\n",
            "103/103 [==============================] - 1s 8ms/step - loss: 0.6137 - accuracy: 0.8274\n",
            "Epoch 289/300\n",
            "103/103 [==============================] - 1s 8ms/step - loss: 0.6133 - accuracy: 0.8258\n",
            "Epoch 290/300\n",
            "103/103 [==============================] - 1s 8ms/step - loss: 0.6062 - accuracy: 0.8313\n",
            "Epoch 291/300\n",
            "103/103 [==============================] - 1s 8ms/step - loss: 0.6001 - accuracy: 0.8307\n",
            "Epoch 292/300\n",
            "103/103 [==============================] - 1s 8ms/step - loss: 0.5955 - accuracy: 0.8316\n",
            "Epoch 293/300\n",
            "103/103 [==============================] - 1s 8ms/step - loss: 0.5965 - accuracy: 0.8313\n",
            "Epoch 294/300\n",
            "103/103 [==============================] - 1s 8ms/step - loss: 0.6171 - accuracy: 0.8252\n",
            "Epoch 295/300\n",
            "103/103 [==============================] - 1s 8ms/step - loss: 0.6162 - accuracy: 0.8231\n",
            "Epoch 296/300\n",
            "103/103 [==============================] - 1s 8ms/step - loss: 0.6277 - accuracy: 0.8200\n",
            "Epoch 297/300\n",
            "103/103 [==============================] - 1s 9ms/step - loss: 0.6121 - accuracy: 0.8268\n",
            "Epoch 298/300\n",
            "103/103 [==============================] - 1s 8ms/step - loss: 0.6024 - accuracy: 0.8264\n",
            "Epoch 299/300\n",
            "103/103 [==============================] - 1s 8ms/step - loss: 0.5932 - accuracy: 0.8292\n",
            "Epoch 300/300\n",
            "103/103 [==============================] - 1s 8ms/step - loss: 0.5869 - accuracy: 0.8310\n"
          ],
          "name": "stdout"
        }
      ]
    },
    {
      "cell_type": "code",
      "metadata": {
        "id": "ogDi4mGL_x0T",
        "outputId": "f7c11e7a-f162-4dc9-9998-4dbf234fdba6",
        "colab": {
          "base_uri": "https://localhost:8080/",
          "height": 279
        }
      },
      "source": [
        "import matplotlib.pyplot as plt\n",
        "\n",
        "def plot_graphs(history, string):\n",
        "  plt.plot(history.history[string])\n",
        "  plt.xlabel(\"Epochs\")\n",
        "  plt.ylabel(string)\n",
        "  plt.show()\n",
        "\n",
        "plot_graphs(history, 'accuracy')"
      ],
      "execution_count": 164,
      "outputs": [
        {
          "output_type": "display_data",
          "data": {
            "image/png": "[encoded data removed]",
            "text/plain": [
              "<Figure size 432x288 with 1 Axes>"
            ]
          },
          "metadata": {
            "tags": [],
            "needs_background": "light"
          }
        }
      ]
    },
    {
      "cell_type": "code",
      "metadata": {
        "id": "a9AIMoQNFpr0",
        "outputId": "b11c0d05-a8fe-4b7a-8f36-659dbc1bde71",
        "colab": {
          "base_uri": "https://localhost:8080/",
          "height": 279
        }
      },
      "source": [
        "plot_graphs(history, 'loss')"
      ],
      "execution_count": 165,
      "outputs": [
        {
          "output_type": "display_data",
          "data": {
            "image/png": "[encoded data removed]",
            "text/plain": [
              "<Figure size 432x288 with 1 Axes>"
            ]
          },
          "metadata": {
            "tags": [],
            "needs_background": "light"
          }
        }
      ]
    },
    {
      "cell_type": "markdown",
      "metadata": {
        "id": "dVsV49Zhz3t6"
      },
      "source": [
        "# Three types of predictive text generation"
      ]
    },
    {
      "cell_type": "code",
      "metadata": {
        "id": "xqUBi0r4muLU"
      },
      "source": [
        "#1: prediction using argmax"
      ],
      "execution_count": 166,
      "outputs": []
    },
    {
      "cell_type": "code",
      "metadata": {
        "id": "e7llgGi-_-qB",
        "outputId": "bd8e0dbb-3c4f-4891-edf9-eefe0cdba8b4",
        "colab": {
          "base_uri": "https://localhost:8080/",
          "height": 55
        }
      },
      "source": [
        "seed_text = \"everybody groove to the music\"\n",
        "next_words = 100\n",
        "  \n",
        "for _ in range(next_words):\n",
        "\ttoken_list = tokenizer.texts_to_sequences([seed_text])[0]\n",
        "\ttoken_list = pad_sequences([token_list], maxlen=max_sequence_len-1, padding='pre')\n",
        "\tpredicted = np.argmax(model.predict(token_list), axis=-1)\n",
        "\toutput_word = \"\"\n",
        "\tfor word, index in tokenizer.word_index.items():\n",
        "\t\tif index == predicted:\n",
        "\t\t\toutput_word = word\n",
        "\t\t\tbreak\n",
        "\tseed_text += \" \" + output_word\n",
        "print(seed_text)"
      ],
      "execution_count": 180,
      "outputs": [
        {
          "output_type": "stream",
          "text": [
            "everybody groove to the music we sorry too soon lead me free apart give give asked honey policy shake shake shake it shake it shake it baby shake it baby tell oh baby youre oh youre around oh me free right apart you eat only nobody this party playin playin else from life give my heart whatcha gotta shouldve must gotta see all all give gotta left callin from from life else life hang air without you heart with you hold it closer closer asked me all you start all wildin feelings show heart plan missin little nobody this party show playin party swear goin\n"
          ],
          "name": "stdout"
        }
      ]
    },
    {
      "cell_type": "code",
      "metadata": {
        "id": "dAuCyiQ7m-f6"
      },
      "source": [
        "#2: Taking random words from 2000 words"
      ],
      "execution_count": 170,
      "outputs": []
    },
    {
      "cell_type": "code",
      "metadata": {
        "id": "fNE4BPKtAuLI",
        "outputId": "c802df6a-d9c5-4387-ab9e-336303c725f6",
        "colab": {
          "base_uri": "https://localhost:8080/",
          "height": 55
        }
      },
      "source": [
        "# Use this process for the full output generation\n",
        "seed_text = \"everybody groove to the music\"\n",
        "next_words = 100\n",
        "  \n",
        "for _ in range(next_words):\n",
        "  token_list = tokenizer.texts_to_sequences([seed_text])[0]\n",
        "  token_list = pad_sequences([token_list], maxlen=max_sequence_len-1, padding='pre')\n",
        "  predicted_probs = model.predict(token_list)[0]\n",
        "  predicted = np.random.choice([x for x in range(len(predicted_probs))],\n",
        "                               p=predicted_probs)\n",
        "  output_word = \"\"\n",
        "  for word, index in tokenizer.word_index.items():\n",
        "    if index == predicted:\n",
        "      output_word = word\n",
        "      break\n",
        "  seed_text += \" \" + output_word\n",
        "print(seed_text)"
      ],
      "execution_count": 186,
      "outputs": [
        {
          "output_type": "stream",
          "text": [
            "everybody groove to the music we everynight fine come easy back time back time dance but you party its hear the days hang floor oh it baby wih give you once everybody everybody everybody swing baby hey baby youd too soon oh shut give give this overdrive their my heart heart comin help nobody from love from you you talk delusion you swing yeah boys i gotta hold anymore miss had very smiling man fine down touch used comin dance from give tearin life things ecstasy movin from the light is floor so days swear as tear as stop hit playin take playin playin playin\n"
          ],
          "name": "stdout"
        }
      ]
    },
    {
      "cell_type": "code",
      "metadata": {
        "id": "UGQQTYrTWWKN"
      },
      "source": [
        "#3: Taking random words among top 100 predicted words and not 2000"
      ],
      "execution_count": 172,
      "outputs": []
    },
    {
      "cell_type": "code",
      "metadata": {
        "id": "yfxewesXWWY-",
        "outputId": "2de0473f-01ff-48d7-bda9-a743699101c0",
        "colab": {
          "base_uri": "https://localhost:8080/",
          "height": 55
        }
      },
      "source": [
        "seed_text = \"everybody groove to the music\"\n",
        "next_words = 100\n",
        "  \n",
        "for _ in range(next_words):\n",
        "  token_list = tokenizer.texts_to_sequences([seed_text])[0]\n",
        "  token_list = pad_sequences([token_list], maxlen=max_sequence_len-1, padding='pre')\n",
        "  #predicted_probs = model.predict(token_list)[0]\n",
        "  prediction= model.predict(token_list)\n",
        "  pred_list=prediction[0].tolist()\n",
        "  dic={}\n",
        "  for i,element in enumerate(pred_list):\n",
        "    dic[i]=element\n",
        "  dic_sort=sorted(dic.items(),key=lambda x:x[1],reverse=True)\n",
        "  final_list=[i[0] for i in dic_sort[:100]]\n",
        "  predicted=np.random.choice(final_list)\n",
        "  # predicted = np.random.choice([x for x in range(len(predicted_probs))],\n",
        "  #                              p=predicted_probs)\n",
        "  output_word = \"\"\n",
        "  for word, index in tokenizer.word_index.items():\n",
        "    if index == predicted:\n",
        "      output_word = word\n",
        "      break\n",
        "  seed_text += \" \" + output_word\n",
        "print(seed_text)"
      ],
      "execution_count": 188,
      "outputs": [
        {
          "output_type": "stream",
          "text": [
            "everybody groove to the music sure a gave long thing you through lookin keep you cared always known the beep fadin ill their but wildin show dream bein top call shared back bodys wont still seems trust listen head used used right back pain can do much much right granted tell no where bodys dream matter send way life callin in hold talk the one a fools music nowhere day first might understand special static there playin cuz can up tonight so everything time cinderella youre at cinderella walked other as movin prove hang asked leave whatcha or hesitate we destiny hang tree hype everybody\n"
          ],
          "name": "stdout"
        }
      ]
    },
    {
      "cell_type": "code",
      "metadata": {
        "id": "Ic7H6_1r1Z7l"
      },
      "source": [
        "# just for experiment"
      ],
      "execution_count": 190,
      "outputs": []
    },
    {
      "cell_type": "code",
      "metadata": {
        "id": "4bA2AOTeWV60"
      },
      "source": [
        "# Tokenizer explored"
      ],
      "execution_count": 174,
      "outputs": []
    },
    {
      "cell_type": "code",
      "metadata": {
        "id": "vp378KR_AzWQ",
        "outputId": "609f8545-c6d4-4a50-f319-0b4d93c92745",
        "colab": {
          "base_uri": "https://localhost:8080/",
          "height": 55
        }
      },
      "source": [
        "# tokenizer.word_index.items()"
      ],
      "execution_count": 175,
      "outputs": [
        {
          "output_type": "execute_result",
          "data": {
            "text/plain": [
              "dict_items([('you', 1), ('i', 2), ('to', 3), ('it', 4), ('oh', 5), ('with', 6), ('the', 7), ('roll', 8), ('ooh', 9), ('me', 10), ('my', 11), ('be', 12), ('just', 13), ('and', 14), ('but', 15), ('know', 16), ('for', 17), ('heart', 18), ('baby', 19), ('a', 20), ('do', 21), ('wanna', 22), ('all', 23), ('got', 24), ('everybody', 25), ('your', 26), ('youve', 27), ('na', 28), ('is', 29), ('party', 30), ('so', 31), ('boys', 32), ('its', 33), ('girl', 34), ('nobody', 35), ('youre', 36), ('close', 37), ('on', 38), ('one', 39), ('love', 40), ('never', 41), ('get', 42), ('that', 43), ('yeah', 44), ('what', 45), ('im', 46), ('like', 47), ('want', 48), ('make', 49), ('in', 50), ('will', 51), ('dont', 52), ('back', 53), ('no', 54), ('can', 55), ('ill', 56), ('have', 57), ('now', 58), ('gonna', 59), ('playin', 60), ('games', 61), ('see', 62), ('come', 63), ('give', 64), ('quit', 65), ('lets', 66), ('cant', 67), ('go', 68), ('when', 69), ('gotta', 70), ('else', 71), ('where', 72), ('at', 73), ('time', 74), ('if', 75), ('hey', 76), ('let', 77), ('cuz', 78), ('right', 79), ('true', 80), ('whoa', 81), ('chance', 82), ('more', 83), ('id', 84), ('from', 85), ('as', 86), ('need', 87), ('aint', 88), ('up', 89), ('way', 90), ('tell', 91), ('down', 92), ('we', 93), ('this', 94), ('feel', 95), ('everything', 96), ('things', 97), ('hold', 98), ('crazy', 99), ('were', 100), ('wish', 101), ('us', 102), ('been', 103), ('eyes', 104), ('could', 105), ('again', 106), ('try', 107), ('thats', 108), ('say', 109), ('shake', 110), ('weve', 111), ('keep', 112), ('anything', 113), ('of', 114), ('night', 115), ('ever', 116), ('find', 117), ('honey', 118), ('by', 119), ('apart', 120), ('until', 121), ('jam', 122), ('goin', 123), ('anywhere', 124), ('there', 125), ('think', 126), ('life', 127), ('out', 128), ('are', 129), ('they', 130), ('here', 131), ('please', 132), ('would', 133), ('wrong', 134), ('cry', 135), ('how', 136), ('turn', 137), ('start', 138), ('stop', 139), ('much', 140), ('should', 141), ('ive', 142), ('young', 143), ('long', 144), ('creepin', 145), ('really', 146), ('well', 147), ('groove', 148), ('around', 149), ('theres', 150), ('whole', 151), ('every', 152), ('or', 153), ('face', 154), ('once', 155), ('lie', 156), ('not', 157), ('closer', 158), ('swing', 159), ('lookin', 160), ('everytime', 161), ('dance', 162), ('floor', 163), ('hands', 164), ('mmm', 165), ('whatcha', 166), ('anybody', 167), ('music', 168), ('waiting', 169), ('backstreets', 170), ('years', 171), ('uh', 172), ('asked', 173), ('kiss', 174), ('believe', 175), ('through', 176), ('thing', 177), ('used', 178), ('someone', 179), ('live', 180), ('without', 181), ('ecstasy', 182), ('move', 183), ('bang', 184), ('tryin', 185), ('put', 186), ('prove', 187), ('forever', 188), ('youd', 189), ('hurt', 190), ('walked', 191), ('quick', 192), ('judge', 193), ('nothing', 194), ('break', 195), ('understand', 196), ('why', 197), ('sometimes', 198), ('impossible', 199), ('may', 200), ('seem', 201), ('bad', 202), ('before', 203), ('tear', 204), ('shouldve', 205), ('known', 206), ('tearin', 207), ('had', 208), ('was', 209), ('worlds', 210), ('always', 211), ('away', 212), ('hear', 213), ('bodys', 214), ('callin', 215), ('hesitate', 216), ('oughta', 217), ('then', 218), ('light', 219), ('mind', 220), ('truth', 221), ('about', 222), ('darlin', 223), ('throw', 224), ('good', 225), ('yourself', 226), ('has', 227), ('man', 228), ('who', 229), ('send', 230), ('wildin', 231), ('static', 232), ('sing', 233), ('left', 234), ('straight', 235), ('world', 236), ('far', 237), ('call', 238), ('stars', 239), ('wont', 240), ('lose', 241), ('even', 242), ('sure', 243), ('knew', 244), ('minute', 245), ('too', 246), ('fine', 247), ('sweet', 248), ('fun', 249), ('touch', 250), ('first', 251), ('together', 252), ('darling', 253), ('deserve', 254), ('than', 255), ('goes', 256), ('little', 257), ('better', 258), ('afraid', 259), ('feelings', 260), ('show', 261), ('swear', 262), ('bein', 263), ('deep', 264), ('alright', 265), ('pumpin', 266), ('soon', 267), ('help', 268), ('into', 269), ('wait', 270), ('anymore', 271), ('lovers', 272), ('yo', 273), ('part', 274), ('only', 275), ('our', 276), ('dream', 277), ('became', 278), ('reality', 279), ('alone', 280), ('comes', 281), ('whats', 282), ('waitin', 283), ('fadin', 284), ('listen', 285), ('meant', 286), ('other', 287), ('wed', 288), ('til', 289), ('end', 290), ('days', 291), ('ways', 292), ('countin', 293), ('inside', 294), ('words', 295), ('watching', 296), ('body', 297), ('movin', 298), ('fellas', 299), ('honeys', 300), ('enjoy', 301), ('worry', 302), ('woman', 303), ('learn', 304), ('gimme', 305), ('reunite', 306), ('grove', 307), ('funky', 308), ('ruthless', 309), ('wet', 310), ('packed', 311), ('corner', 312), ('tough', 313), ('granite', 314), ('crowd', 315), ('hype', 316), ('special', 317), ('effects', 318), ('walk', 319), ('halfway', 320), ('beyond', 321), ('sun', 322), ('moon', 323), ('loves', 324), ('lead', 325), ('darkest', 326), ('dreams', 327), ('sentimental', 328), ('fools', 329), ('whod', 330), ('their', 331), ('very', 332), ('couldnt', 333), ('wide', 334), ('delusion', 335), ('hour', 336), ('crying', 337), ('heaven', 338), ('look', 339), ('drive', 340), ('kind', 341), ('lovin', 342), ('mine', 343), ('lips', 344), ('taste', 345), ('rap', 346), ('smooth', 347), ('t', 348), ('slam', 349), ('factory', 350), ('bsbs', 351), ('girls', 352), ('knees', 353), ('scream', 354), ('backstreet', 355), ('aj', 356), ('hit', 357), ('smack', 358), ('flip', 359), ('top', 360), ('list', 361), ('hurting', 362), ('ask', 363), ('day', 364), ('saw', 365), ('smiling', 366), ('said', 367), ('found', 368), ('felt', 369), ('he', 370), ('s', 371), ('rather', 372), ('die', 373), ('because', 374), ('hes', 375), ('within', 376), ('soul', 377), ('nothings', 378), ('comin', 379), ('strong', 380), ('leave', 381), ('hangin', 382), ('tonight', 383), ('something', 384), ('incredible', 385), ('starts', 386), ('whenever', 387), ('upside', 388), ('push', 389), ('play', 390), ('senses', 391), ('overdrive', 392), ('defenses', 393), ('hope', 394), ('control', 395), ('strictly', 396), ('drop', 397), ('verse', 398), ('flower', 399), ('tree', 400), ('daytime', 401), ('destiny', 402), ('lonely', 403), ('wihout', 404), ('tight', 405), ('mean', 406), ('joy', 407), ('bring', 408), ('therell', 409), ('policy', 410), ('easy', 411), ('set', 412), ('free', 413), ('behind', 414), ('missin', 415), ('sign', 416), ('word', 417), ('sorry', 418), ('wonder', 419), ('realize', 420), ('shared', 421), ('each', 422), ('thought', 423), ('stay', 424), ('took', 425), ('granted', 426), ('gave', 427), ('miss', 428), ('matter', 429), ('everynight', 430), ('feels', 431), ('cause', 432), ('pain', 433), ('caught', 434), ('lying', 435), ('game', 436), ('those', 437), ('over', 438), ('changed', 439), ('minutes', 440), ('new', 441), ('talk', 442), ('somethings', 443), ('same', 444), ('still', 445), ('care', 446), ('meaning', 447), ('cared', 448), ('lover', 449), ('constant', 450), ('friend', 451), ('reason', 452), ('theyre', 453), ('trying', 454), ('hard', 455), ('hide', 456), ('might', 457), ('feeling', 458), ('maybe', 459), ('wouldnt', 460), ('shut', 461), ('asking', 462), ('many', 463), ('open', 464), ('air', 465), ('work', 466), ('must', 467), ('dreamin', 468), ('holdin', 469), ('sharin', 470), ('blow', 471), ('welcome', 472), ('forget', 473), ('mad', 474), ('begun', 475), ('beep', 476), ('came', 477), ('across', 478), ('cinderella', 479), ('poof', 480), ('after', 481), ('midnight', 482), ('cares', 483), ('best', 484), ('nowhere', 485), ('times', 486), ('criticize', 487), ('take', 488), ('enough', 489), ('change', 490), ('ohh', 491), ('seems', 492), ('though', 493), ('understands', 494), ('head', 495), ('hang', 496), ('stick', 497), ('plan', 498), ('wih', 499), ('trust', 500), ('school', 501), ('stage', 502), ('some', 503), ('act', 504), ('fool', 505), ('yall', 506), ('ladies', 507), ('somebody', 508), ('eat', 509), ('sleep', 510), ('bittersweet', 511), ('delight', 512)])"
            ]
          },
          "metadata": {
            "tags": []
          },
          "execution_count": 175
        }
      ]
    },
    {
      "cell_type": "code",
      "metadata": {
        "id": "FeJwQy1ND6iO",
        "outputId": "ace828e5-6dce-479b-a45c-07b78e923f24",
        "colab": {
          "base_uri": "https://localhost:8080/",
          "height": 35
        }
      },
      "source": [
        "# len(tokenizer.word_index.keys())"
      ],
      "execution_count": 176,
      "outputs": [
        {
          "output_type": "execute_result",
          "data": {
            "text/plain": [
              "512"
            ]
          },
          "metadata": {
            "tags": []
          },
          "execution_count": 176
        }
      ]
    },
    {
      "cell_type": "code",
      "metadata": {
        "id": "JzyfdJ73GY9v"
      },
      "source": [
        "# token='wont'"
      ],
      "execution_count": 177,
      "outputs": []
    },
    {
      "cell_type": "code",
      "metadata": {
        "id": "wdhRyhIdE946",
        "outputId": "3d188028-2072-4e61-f8b2-395bb269bd04",
        "colab": {
          "base_uri": "https://localhost:8080/",
          "height": 35
        }
      },
      "source": [
        "# if token in tokenizer.word_index.keys():\n",
        "#   print(tokenizer.word_index[token])"
      ],
      "execution_count": 178,
      "outputs": [
        {
          "output_type": "stream",
          "text": [
            "240\n"
          ],
          "name": "stdout"
        }
      ]
    },
    {
      "cell_type": "code",
      "metadata": {
        "id": "kD3W_jEqFPfZ",
        "outputId": "359eae3c-4ebb-437a-db8e-8754d34e1dd9",
        "colab": {
          "base_uri": "https://localhost:8080/",
          "height": 35
        }
      },
      "source": [
        "# len(tokenizer.word_counts)"
      ],
      "execution_count": 179,
      "outputs": [
        {
          "output_type": "execute_result",
          "data": {
            "text/plain": [
              "512"
            ]
          },
          "metadata": {
            "tags": []
          },
          "execution_count": 179
        }
      ]
    },
    {
      "cell_type": "code",
      "metadata": {
        "id": "tAQfCMQTG7vY"
      },
      "source": [
        ""
      ],
      "execution_count": 179,
      "outputs": []
    }
  ]
}